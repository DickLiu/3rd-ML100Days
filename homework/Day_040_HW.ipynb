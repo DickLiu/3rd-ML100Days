{
 "cells": [
  {
   "cell_type": "markdown",
   "metadata": {},
   "source": [
    "## [作業重點]\n",
    "使用 Sklearn 中的 Lasso, Ridge 模型，來訓練各種資料集，務必了解送進去模型訓練的**資料型態**為何，也請了解模型中各項參數的意義。\n",
    "\n",
    "機器學習的模型非常多種，但要訓練的資料多半有固定的格式，確保你了解訓練資料的格式為何，這樣在應用新模型時，就能夠最快的上手開始訓練！"
   ]
  },
  {
   "cell_type": "markdown",
   "metadata": {},
   "source": [
    "## 練習時間\n",
    "試著使用 sklearn datasets 的其他資料集 (boston, ...)，來訓練自己的線性迴歸模型，並加上適當的正則化來觀察訓練情形。"
   ]
  },
  {
   "cell_type": "code",
   "execution_count": 1,
   "metadata": {},
   "outputs": [],
   "source": [
    "import numpy as np\n",
    "import matplotlib.pyplot as plt\n",
    "from sklearn import datasets, linear_model\n",
    "from sklearn.model_selection import train_test_split\n",
    "from sklearn.metrics import mean_squared_error, r2_score"
   ]
  },
  {
   "cell_type": "code",
   "execution_count": 2,
   "metadata": {},
   "outputs": [],
   "source": [
    "wine = datasets.load_wine()"
   ]
  },
  {
   "cell_type": "code",
   "execution_count": 3,
   "metadata": {},
   "outputs": [],
   "source": [
    "X_train, X_test, Y_train, Y_test = train_test_split(wine.data, wine.target, test_size=0.2, random_state=4)"
   ]
  },
  {
   "cell_type": "code",
   "execution_count": 6,
   "metadata": {},
   "outputs": [
    {
     "name": "stdout",
     "output_type": "stream",
     "text": [
      "shape of X_train:(142, 13)\n",
      "shape of X_test:(36, 13)\n",
      "shape of Y_train:(142,)\n",
      "shape of Y_test:(36,)\n"
     ]
    }
   ],
   "source": [
    "print(\"shape of X_train:{}\".format(X_train.shape))\n",
    "print(\"shape of X_test:{}\".format(X_test.shape))\n",
    "print(\"shape of Y_train:{}\".format(Y_train.shape))\n",
    "print(\"shape of Y_test:{}\".format(Y_test.shape))"
   ]
  },
  {
   "cell_type": "code",
   "execution_count": 8,
   "metadata": {},
   "outputs": [],
   "source": [
    "regr = linear_model.LinearRegression()\n",
    "regr.fit(X_train, Y_train)\n",
    "y_pred = regr.predict(X_test)"
   ]
  },
  {
   "cell_type": "code",
   "execution_count": 10,
   "metadata": {},
   "outputs": [
    {
     "name": "stdout",
     "output_type": "stream",
     "text": [
      "mse:0.06696862960242082\n"
     ]
    }
   ],
   "source": [
    "print(\"mse:{}\".format(mean_squared_error(y_true=Y_test, y_pred=y_pred)))"
   ]
  },
  {
   "cell_type": "markdown",
   "metadata": {},
   "source": [
    "## Lasso"
   ]
  },
  {
   "cell_type": "code",
   "execution_count": 18,
   "metadata": {},
   "outputs": [],
   "source": [
    "wine = datasets.load_wine()\n",
    "X_train, X_test, Y_train, Y_test = train_test_split(wine.data, wine.target, test_size=0.2, random_state=4) "
   ]
  },
  {
   "cell_type": "code",
   "execution_count": 19,
   "metadata": {},
   "outputs": [],
   "source": [
    "lasso = linear_model.Lasso(alpha=1.0)\n",
    "lasso.fit(X_train, Y_train)\n",
    "y_predict = lasso.predict(X_test)"
   ]
  },
  {
   "cell_type": "code",
   "execution_count": 20,
   "metadata": {},
   "outputs": [
    {
     "name": "stdout",
     "output_type": "stream",
     "text": [
      "[ 0.          0.          0.          0.          0.         -0.\n",
      " -0.          0.         -0.          0.         -0.         -0.\n",
      " -0.00159714]\n"
     ]
    }
   ],
   "source": [
    "print(lasso.coef_)"
   ]
  },
  {
   "cell_type": "code",
   "execution_count": 21,
   "metadata": {},
   "outputs": [
    {
     "name": "stdout",
     "output_type": "stream",
     "text": [
      "mse:0.42408229231650846\n"
     ]
    }
   ],
   "source": [
    "print(\"mse:{}\".format(mean_squared_error(y_true=Y_test, y_pred=y_predict)))"
   ]
  },
  {
   "cell_type": "code",
   "execution_count": 25,
   "metadata": {
    "scrolled": false
   },
   "outputs": [
    {
     "name": "stdout",
     "output_type": "stream",
     "text": [
      "mse:0.10175180481909946 of Lasso(alpha=0.1)\n",
      "[-0.00000000e+00  0.00000000e+00 -0.00000000e+00  3.11003765e-02\n",
      "  1.66568969e-04 -0.00000000e+00 -2.76524348e-01  0.00000000e+00\n",
      " -0.00000000e+00  9.33441102e-02 -0.00000000e+00 -1.99489077e-02\n",
      " -1.23750027e-03] \n",
      "\n",
      "mse:0.12646664090811868 of Lasso(alpha=0.15000000000000002)\n",
      "[-0.          0.         -0.          0.02829051  0.         -0.\n",
      " -0.2213106   0.         -0.          0.09512437 -0.         -0.\n",
      " -0.0013492 ] \n",
      "\n",
      "mse:0.15862555204390966 of Lasso(alpha=0.2)\n",
      "[-0.          0.         -0.          0.02547336  0.         -0.\n",
      " -0.15617061  0.         -0.          0.09481945 -0.         -0.\n",
      " -0.00145954] \n",
      "\n",
      "mse:0.19820668510812706 of Lasso(alpha=0.25)\n",
      "[-0.          0.         -0.          0.02265642  0.         -0.\n",
      " -0.09102524  0.         -0.          0.09451589 -0.         -0.\n",
      " -0.00156988] \n",
      "\n",
      "mse:0.24520605593213501 of Lasso(alpha=0.3)\n",
      "[-0.          0.         -0.          0.01983926  0.         -0.\n",
      " -0.0258852   0.         -0.          0.09421099 -0.         -0.\n",
      " -0.00168021] \n",
      "\n",
      "mse:0.2738513472076436 of Lasso(alpha=0.35)\n",
      "[-0.          0.         -0.          0.01609566  0.         -0.\n",
      " -0.          0.         -0.          0.0885102  -0.         -0.\n",
      " -0.00172375] \n",
      "\n",
      "mse:0.2880603254813205 of Lasso(alpha=0.39999999999999997)\n",
      "[-0.          0.         -0.          0.01173637  0.         -0.\n",
      " -0.          0.         -0.          0.07925518 -0.         -0.\n",
      " -0.00172328] \n",
      "\n",
      "mse:0.30362419422978454 of Lasso(alpha=0.44999999999999996)\n",
      "[ 0.          0.          0.          0.00737729  0.         -0.\n",
      " -0.          0.         -0.          0.06999995 -0.         -0.\n",
      " -0.00172282] \n",
      "\n",
      "mse:0.3205429175310883 of Lasso(alpha=0.49999999999999994)\n",
      "[ 0.          0.          0.          0.00301828  0.         -0.\n",
      " -0.          0.         -0.          0.06074464 -0.         -0.\n",
      " -0.00172235] \n",
      "\n",
      "mse:0.3375958182824659 of Lasso(alpha=0.5499999999999999)\n",
      "[ 0.          0.          0.          0.          0.         -0.\n",
      " -0.          0.         -0.          0.05121232 -0.         -0.\n",
      " -0.00171497] \n",
      "\n",
      "mse:0.3529637610274716 of Lasso(alpha=0.6)\n",
      "[ 0.          0.          0.          0.          0.         -0.\n",
      " -0.          0.         -0.          0.0410511  -0.         -0.\n",
      " -0.00169201] \n",
      "\n",
      "mse:0.36922828465882435 of Lasso(alpha=0.65)\n",
      "[ 0.          0.          0.          0.          0.         -0.\n",
      " -0.          0.         -0.          0.03089005 -0.         -0.\n",
      " -0.00166906] \n",
      "\n",
      "mse:0.38638964494044675 of Lasso(alpha=0.7000000000000001)\n",
      "[ 0.          0.          0.          0.          0.         -0.\n",
      " -0.          0.         -0.          0.02072899 -0.         -0.\n",
      " -0.00164611] \n",
      "\n",
      "mse:0.40444785875120637 of Lasso(alpha=0.7500000000000001)\n",
      "[ 0.          0.          0.          0.          0.         -0.\n",
      " -0.          0.         -0.          0.01056793 -0.         -0.\n",
      " -0.00162315] \n",
      "\n",
      "mse:0.4234029157500007 of Lasso(alpha=0.8000000000000002)\n",
      "[ 0.          0.          0.          0.          0.         -0.\n",
      " -0.          0.         -0.          0.00040687 -0.         -0.\n",
      " -0.0016002 ] \n",
      "\n",
      "mse:0.42415665544134146 of Lasso(alpha=0.8500000000000002)\n",
      "[ 0.          0.          0.          0.          0.         -0.\n",
      " -0.          0.         -0.          0.         -0.         -0.\n",
      " -0.00159876] \n",
      "\n",
      "mse:0.4241317957304896 of Lasso(alpha=0.9000000000000002)\n",
      "[ 0.          0.          0.          0.          0.         -0.\n",
      " -0.          0.         -0.          0.         -0.         -0.\n",
      " -0.00159822] \n",
      "\n",
      "mse:0.42410700802221185 of Lasso(alpha=0.9500000000000003)\n",
      "[ 0.          0.          0.          0.          0.         -0.\n",
      " -0.          0.         -0.          0.         -0.         -0.\n",
      " -0.00159768] \n",
      "\n",
      "mse:0.42408229231650846 of Lasso(alpha=1.0000000000000002)\n",
      "[ 0.          0.          0.          0.          0.         -0.\n",
      " -0.          0.         -0.          0.         -0.         -0.\n",
      " -0.00159714] \n",
      "\n",
      "mse:0.42405764861337936 of Lasso(alpha=1.0500000000000003)\n",
      "[ 0.         0.         0.         0.         0.        -0.\n",
      " -0.         0.        -0.         0.        -0.        -0.\n",
      " -0.0015966] \n",
      "\n"
     ]
    }
   ],
   "source": [
    "alpha = 0.1\n",
    "for i in range(20):\n",
    "    lasso = linear_model.Lasso(alpha=alpha)\n",
    "    lasso.fit(X_train, Y_train)\n",
    "    y_predict = lasso.predict(X_test)\n",
    "    print(\"mse:{} of Lasso(alpha={})\".format(mean_squared_error(y_true=Y_test, y_pred=y_predict), alpha))\n",
    "    print(lasso.coef_, \"\\n\")\n",
    "    alpha+=0.05"
   ]
  },
  {
   "cell_type": "code",
   "execution_count": null,
   "metadata": {},
   "outputs": [],
   "source": []
  }
 ],
 "metadata": {
  "kernelspec": {
   "display_name": "Python 3",
   "language": "python",
   "name": "python3"
  },
  "language_info": {
   "codemirror_mode": {
    "name": "ipython",
    "version": 3
   },
   "file_extension": ".py",
   "mimetype": "text/x-python",
   "name": "python",
   "nbconvert_exporter": "python",
   "pygments_lexer": "ipython3",
   "version": "3.7.1"
  }
 },
 "nbformat": 4,
 "nbformat_minor": 2
}
