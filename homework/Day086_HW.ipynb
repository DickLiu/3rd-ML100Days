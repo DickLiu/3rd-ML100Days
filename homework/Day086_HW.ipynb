{
  "nbformat": 4,
  "nbformat_minor": 0,
  "metadata": {
    "accelerator": "GPU",
    "colab": {
      "name": "Day086_HW.ipynb",
      "provenance": [],
      "collapsed_sections": []
    },
    "kernelspec": {
      "display_name": "Python 3",
      "language": "python",
      "name": "python3"
    },
    "language_info": {
      "codemirror_mode": {
        "name": "ipython",
        "version": 3
      },
      "file_extension": ".py",
      "mimetype": "text/x-python",
      "name": "python",
      "nbconvert_exporter": "python",
      "pygments_lexer": "ipython3",
      "version": "3.6.9"
    }
  },
  "cells": [
    {
      "cell_type": "markdown",
      "metadata": {
        "colab_type": "text",
        "id": "G8XIRTtqbbkN"
      },
      "source": [
        "## Work\n",
        "1. 試比較 save_best_only 與否的差異\n",
        "2. 請僅存入將 save_weights_only 設定為 True, 並嘗試 reset ipynb 並將模型與權重重新建回並預測 x_test"
      ]
    },
    {
      "cell_type": "code",
      "metadata": {
        "colab_type": "code",
        "id": "Cd7tUKBZbbkP",
        "outputId": "253d8f65-e79b-4324-f809-b80c1e04d19b",
        "colab": {
          "base_uri": "https://localhost:8080/",
          "height": 188
        }
      },
      "source": [
        "import os\n",
        "import keras\n",
        "from google.colab import drive\n",
        "drive.mount('/content/gdrive')\n",
        "# Disable GPU\n",
        "# os.environ[\"CUDA_VISIBLE_DEVICES\"] = \"\""
      ],
      "execution_count": 1,
      "outputs": [
        {
          "output_type": "stream",
          "text": [
            "Using TensorFlow backend.\n"
          ],
          "name": "stderr"
        },
        {
          "output_type": "display_data",
          "data": {
            "text/html": [
              "<p style=\"color: red;\">\n",
              "The default version of TensorFlow in Colab will soon switch to TensorFlow 2.x.<br>\n",
              "We recommend you <a href=\"https://www.tensorflow.org/guide/migrate\" target=\"_blank\">upgrade</a> now \n",
              "or ensure your notebook will continue to use TensorFlow 1.x via the <code>%tensorflow_version 1.x</code> magic:\n",
              "<a href=\"https://colab.research.google.com/notebooks/tensorflow_version.ipynb\" target=\"_blank\">more info</a>.</p>\n"
            ],
            "text/plain": [
              "<IPython.core.display.HTML object>"
            ]
          },
          "metadata": {
            "tags": []
          }
        },
        {
          "output_type": "stream",
          "text": [
            "Go to this URL in a browser: https://accounts.google.com/o/oauth2/auth?client_id=947318989803-6bn6qk8qdgf4n4g3pfee6491hc0brc4i.apps.googleusercontent.com&redirect_uri=urn%3aietf%3awg%3aoauth%3a2.0%3aoob&response_type=code&scope=email%20https%3a%2f%2fwww.googleapis.com%2fauth%2fdocs.test%20https%3a%2f%2fwww.googleapis.com%2fauth%2fdrive%20https%3a%2f%2fwww.googleapis.com%2fauth%2fdrive.photos.readonly%20https%3a%2f%2fwww.googleapis.com%2fauth%2fpeopleapi.readonly\n",
            "\n",
            "Enter your authorization code:\n",
            "··········\n",
            "Mounted at /content/gdrive\n"
          ],
          "name": "stdout"
        }
      ]
    },
    {
      "cell_type": "code",
      "metadata": {
        "colab_type": "code",
        "id": "MHMWMpTkbbkT",
        "outputId": "f7f8360b-b41e-4efb-d39d-c93667e606d0",
        "colab": {
          "base_uri": "https://localhost:8080/",
          "height": 52
        }
      },
      "source": [
        "train, test = keras.datasets.cifar10.load_data()"
      ],
      "execution_count": 2,
      "outputs": [
        {
          "output_type": "stream",
          "text": [
            "Downloading data from https://www.cs.toronto.edu/~kriz/cifar-10-python.tar.gz\n",
            "170500096/170498071 [==============================] - 11s 0us/step\n"
          ],
          "name": "stdout"
        }
      ]
    },
    {
      "cell_type": "code",
      "metadata": {
        "colab_type": "code",
        "id": "hcGgoIA_bbkX",
        "colab": {}
      },
      "source": [
        "## 資料前處理\n",
        "def preproc_x(x, flatten=True):\n",
        "    x = x / 255.\n",
        "    if flatten:\n",
        "        x = x.reshape((len(x), -1))\n",
        "    return x\n",
        "\n",
        "def preproc_y(y, num_classes=10):\n",
        "    if y.shape[-1] == 1:\n",
        "        y = keras.utils.to_categorical(y, num_classes)\n",
        "    return y    "
      ],
      "execution_count": 0,
      "outputs": []
    },
    {
      "cell_type": "code",
      "metadata": {
        "colab_type": "code",
        "id": "rNkgw6cAbbkb",
        "colab": {}
      },
      "source": [
        "x_train, y_train = train\n",
        "x_test, y_test = test\n",
        "\n",
        "# Preproc the inputs\n",
        "x_train = preproc_x(x_train)\n",
        "x_test = preproc_x(x_test)\n",
        "\n",
        "# Preprc the outputs\n",
        "y_train = preproc_y(y_train)\n",
        "y_test = preproc_y(y_test)"
      ],
      "execution_count": 0,
      "outputs": []
    },
    {
      "cell_type": "code",
      "metadata": {
        "colab_type": "code",
        "id": "ooYCuKaIbbkf",
        "colab": {}
      },
      "source": [
        "from keras.layers import BatchNormalization\n",
        "\n",
        "\"\"\"\n",
        "建立神經網路，並加入 BN layer\n",
        "\"\"\"\n",
        "def build_mlp(input_shape, output_units=10, num_neurons=[512, 256, 128]):\n",
        "    input_layer = keras.layers.Input(input_shape)\n",
        "    \n",
        "    for i, n_units in enumerate(num_neurons):\n",
        "        if i == 0:\n",
        "            x = keras.layers.Dense(units=n_units, \n",
        "                                   activation=\"relu\", \n",
        "                                   name=\"hidden_layer\"+str(i+1))(input_layer)\n",
        "            x = BatchNormalization()(x)\n",
        "        else:\n",
        "            x = keras.layers.Dense(units=n_units, \n",
        "                                   activation=\"relu\", \n",
        "                                   name=\"hidden_layer\"+str(i+1))(x)\n",
        "            x = BatchNormalization()(x)\n",
        "    \n",
        "    out = keras.layers.Dense(units=output_units, activation=\"softmax\", name=\"output\")(x)\n",
        "    \n",
        "    model = keras.models.Model(inputs=[input_layer], outputs=[out])\n",
        "    return model"
      ],
      "execution_count": 0,
      "outputs": []
    },
    {
      "cell_type": "code",
      "metadata": {
        "colab_type": "code",
        "id": "oseS3GHEbbkh",
        "colab": {}
      },
      "source": [
        "## 超參數設定\n",
        "LEARNING_RATE = 1e-3\n",
        "EPOCHS = 50\n",
        "BATCH_SIZE = 1024\n",
        "MOMENTUM = 0.95"
      ],
      "execution_count": 0,
      "outputs": []
    },
    {
      "cell_type": "code",
      "metadata": {
        "colab_type": "code",
        "id": "Brea7DT-bbkm",
        "outputId": "63142ecd-aadb-4852-be3d-164712473132",
        "scrolled": true,
        "colab": {
          "base_uri": "https://localhost:8080/",
          "height": 1000
        }
      },
      "source": [
        "# 載入 Callbacks\n",
        "\"\"\"Code Here\n",
        "設定 callbacks: model checkpoint\n",
        "\"\"\"\n",
        "from keras.callbacks import ModelCheckpoint\n",
        "\n",
        "model_ckpt = ModelCheckpoint(filepath=\"/content/gdrive/My Drive/ml_models/day_086_best_val_loss_weights_2.h5\",\n",
        "                             save_weights_only=True,\n",
        "                             monitor=\"val_loss\", \n",
        "                             save_best_only=True)\n",
        "\n",
        "results = {}\n",
        "\"\"\"Code Here\n",
        "撰寫你的訓練流程並將結果用 dictionary 紀錄\n",
        "\"\"\"\n",
        "model = build_mlp(input_shape=x_train.shape[1:])\n",
        "model.summary()\n",
        "optimizer = keras.optimizers.SGD(lr=LEARNING_RATE, nesterov=True, momentum=MOMENTUM)\n",
        "model.compile(loss=\"categorical_crossentropy\", metrics=[\"accuracy\"], optimizer=optimizer)\n",
        "\n",
        "model.fit(x_train, y_train, \n",
        "          epochs=EPOCHS, \n",
        "          batch_size=BATCH_SIZE, \n",
        "          validation_data=(x_test, y_test), \n",
        "          shuffle=True,\n",
        "          callbacks=[model_ckpt]\n",
        "         )\n",
        "\n",
        "# Collect results\n",
        "train_loss = model.history.history[\"loss\"]\n",
        "valid_loss = model.history.history[\"val_loss\"]\n",
        "train_acc = model.history.history[\"acc\"]\n",
        "valid_acc = model.history.history[\"val_acc\"]"
      ],
      "execution_count": 8,
      "outputs": [
        {
          "output_type": "stream",
          "text": [
            "WARNING:tensorflow:From /usr/local/lib/python3.6/dist-packages/keras/backend/tensorflow_backend.py:66: The name tf.get_default_graph is deprecated. Please use tf.compat.v1.get_default_graph instead.\n",
            "\n",
            "WARNING:tensorflow:From /usr/local/lib/python3.6/dist-packages/keras/backend/tensorflow_backend.py:541: The name tf.placeholder is deprecated. Please use tf.compat.v1.placeholder instead.\n",
            "\n",
            "WARNING:tensorflow:From /usr/local/lib/python3.6/dist-packages/keras/backend/tensorflow_backend.py:4432: The name tf.random_uniform is deprecated. Please use tf.random.uniform instead.\n",
            "\n",
            "WARNING:tensorflow:From /usr/local/lib/python3.6/dist-packages/keras/backend/tensorflow_backend.py:148: The name tf.placeholder_with_default is deprecated. Please use tf.compat.v1.placeholder_with_default instead.\n",
            "\n",
            "Model: \"model_1\"\n",
            "_________________________________________________________________\n",
            "Layer (type)                 Output Shape              Param #   \n",
            "=================================================================\n",
            "input_1 (InputLayer)         (None, 3072)              0         \n",
            "_________________________________________________________________\n",
            "hidden_layer1 (Dense)        (None, 512)               1573376   \n",
            "_________________________________________________________________\n",
            "batch_normalization_1 (Batch (None, 512)               2048      \n",
            "_________________________________________________________________\n",
            "hidden_layer2 (Dense)        (None, 256)               131328    \n",
            "_________________________________________________________________\n",
            "batch_normalization_2 (Batch (None, 256)               1024      \n",
            "_________________________________________________________________\n",
            "hidden_layer3 (Dense)        (None, 128)               32896     \n",
            "_________________________________________________________________\n",
            "batch_normalization_3 (Batch (None, 128)               512       \n",
            "_________________________________________________________________\n",
            "output (Dense)               (None, 10)                1290      \n",
            "=================================================================\n",
            "Total params: 1,742,474\n",
            "Trainable params: 1,740,682\n",
            "Non-trainable params: 1,792\n",
            "_________________________________________________________________\n",
            "WARNING:tensorflow:From /usr/local/lib/python3.6/dist-packages/keras/optimizers.py:793: The name tf.train.Optimizer is deprecated. Please use tf.compat.v1.train.Optimizer instead.\n",
            "\n",
            "WARNING:tensorflow:From /usr/local/lib/python3.6/dist-packages/keras/backend/tensorflow_backend.py:3576: The name tf.log is deprecated. Please use tf.math.log instead.\n",
            "\n",
            "WARNING:tensorflow:From /usr/local/lib/python3.6/dist-packages/tensorflow_core/python/ops/math_grad.py:1424: where (from tensorflow.python.ops.array_ops) is deprecated and will be removed in a future version.\n",
            "Instructions for updating:\n",
            "Use tf.where in 2.0, which has the same broadcast rule as np.where\n",
            "WARNING:tensorflow:From /usr/local/lib/python3.6/dist-packages/keras/backend/tensorflow_backend.py:1033: The name tf.assign_add is deprecated. Please use tf.compat.v1.assign_add instead.\n",
            "\n",
            "WARNING:tensorflow:From /usr/local/lib/python3.6/dist-packages/keras/backend/tensorflow_backend.py:1020: The name tf.assign is deprecated. Please use tf.compat.v1.assign instead.\n",
            "\n",
            "WARNING:tensorflow:From /usr/local/lib/python3.6/dist-packages/keras/backend/tensorflow_backend.py:3005: The name tf.Session is deprecated. Please use tf.compat.v1.Session instead.\n",
            "\n",
            "Train on 50000 samples, validate on 10000 samples\n",
            "Epoch 1/50\n",
            "WARNING:tensorflow:From /usr/local/lib/python3.6/dist-packages/keras/backend/tensorflow_backend.py:190: The name tf.get_default_session is deprecated. Please use tf.compat.v1.get_default_session instead.\n",
            "\n",
            "WARNING:tensorflow:From /usr/local/lib/python3.6/dist-packages/keras/backend/tensorflow_backend.py:197: The name tf.ConfigProto is deprecated. Please use tf.compat.v1.ConfigProto instead.\n",
            "\n",
            "WARNING:tensorflow:From /usr/local/lib/python3.6/dist-packages/keras/backend/tensorflow_backend.py:207: The name tf.global_variables is deprecated. Please use tf.compat.v1.global_variables instead.\n",
            "\n",
            "WARNING:tensorflow:From /usr/local/lib/python3.6/dist-packages/keras/backend/tensorflow_backend.py:216: The name tf.is_variable_initialized is deprecated. Please use tf.compat.v1.is_variable_initialized instead.\n",
            "\n",
            "WARNING:tensorflow:From /usr/local/lib/python3.6/dist-packages/keras/backend/tensorflow_backend.py:223: The name tf.variables_initializer is deprecated. Please use tf.compat.v1.variables_initializer instead.\n",
            "\n",
            "50000/50000 [==============================] - 7s 130us/step - loss: 2.1933 - acc: 0.2768 - val_loss: 2.1098 - val_acc: 0.3189\n",
            "Epoch 2/50\n",
            "50000/50000 [==============================] - 2s 35us/step - loss: 1.7406 - acc: 0.3918 - val_loss: 1.7869 - val_acc: 0.3914\n",
            "Epoch 3/50\n",
            "50000/50000 [==============================] - 2s 36us/step - loss: 1.6204 - acc: 0.4323 - val_loss: 1.6861 - val_acc: 0.4156\n",
            "Epoch 4/50\n",
            "50000/50000 [==============================] - 2s 35us/step - loss: 1.5467 - acc: 0.4587 - val_loss: 1.6270 - val_acc: 0.4321\n",
            "Epoch 5/50\n",
            "50000/50000 [==============================] - 2s 34us/step - loss: 1.4940 - acc: 0.4761 - val_loss: 1.5945 - val_acc: 0.4436\n",
            "Epoch 6/50\n",
            "50000/50000 [==============================] - 2s 36us/step - loss: 1.4496 - acc: 0.4933 - val_loss: 1.5706 - val_acc: 0.4517\n",
            "Epoch 7/50\n",
            "50000/50000 [==============================] - 2s 34us/step - loss: 1.4106 - acc: 0.5079 - val_loss: 1.5488 - val_acc: 0.4549\n",
            "Epoch 8/50\n",
            "50000/50000 [==============================] - 2s 36us/step - loss: 1.3750 - acc: 0.5204 - val_loss: 1.5298 - val_acc: 0.4655\n",
            "Epoch 9/50\n",
            "50000/50000 [==============================] - 2s 35us/step - loss: 1.3441 - acc: 0.5322 - val_loss: 1.5161 - val_acc: 0.4634\n",
            "Epoch 10/50\n",
            "50000/50000 [==============================] - 2s 35us/step - loss: 1.3146 - acc: 0.5422 - val_loss: 1.4986 - val_acc: 0.4737\n",
            "Epoch 11/50\n",
            "50000/50000 [==============================] - 2s 35us/step - loss: 1.2845 - acc: 0.5530 - val_loss: 1.4903 - val_acc: 0.4776\n",
            "Epoch 12/50\n",
            "50000/50000 [==============================] - 2s 36us/step - loss: 1.2571 - acc: 0.5642 - val_loss: 1.4955 - val_acc: 0.4754\n",
            "Epoch 13/50\n",
            "50000/50000 [==============================] - 2s 35us/step - loss: 1.2325 - acc: 0.5735 - val_loss: 1.4863 - val_acc: 0.4755\n",
            "Epoch 14/50\n",
            "50000/50000 [==============================] - 2s 35us/step - loss: 1.2068 - acc: 0.5832 - val_loss: 1.4888 - val_acc: 0.4799\n",
            "Epoch 15/50\n",
            "50000/50000 [==============================] - 2s 35us/step - loss: 1.1830 - acc: 0.5913 - val_loss: 1.4753 - val_acc: 0.4822\n",
            "Epoch 16/50\n",
            "50000/50000 [==============================] - 2s 35us/step - loss: 1.1582 - acc: 0.5988 - val_loss: 1.4603 - val_acc: 0.4896\n",
            "Epoch 17/50\n",
            "50000/50000 [==============================] - 2s 34us/step - loss: 1.1375 - acc: 0.6089 - val_loss: 1.4627 - val_acc: 0.4871\n",
            "Epoch 18/50\n",
            "50000/50000 [==============================] - 2s 35us/step - loss: 1.1138 - acc: 0.6183 - val_loss: 1.4510 - val_acc: 0.4938\n",
            "Epoch 19/50\n",
            "50000/50000 [==============================] - 2s 36us/step - loss: 1.0916 - acc: 0.6257 - val_loss: 1.4648 - val_acc: 0.4850\n",
            "Epoch 20/50\n",
            "50000/50000 [==============================] - 2s 36us/step - loss: 1.0712 - acc: 0.6327 - val_loss: 1.4632 - val_acc: 0.4906\n",
            "Epoch 21/50\n",
            "50000/50000 [==============================] - 2s 37us/step - loss: 1.0484 - acc: 0.6435 - val_loss: 1.4612 - val_acc: 0.4917\n",
            "Epoch 22/50\n",
            "50000/50000 [==============================] - 2s 36us/step - loss: 1.0268 - acc: 0.6505 - val_loss: 1.4658 - val_acc: 0.4910\n",
            "Epoch 23/50\n",
            "50000/50000 [==============================] - 2s 37us/step - loss: 1.0068 - acc: 0.6586 - val_loss: 1.4581 - val_acc: 0.4972\n",
            "Epoch 24/50\n",
            "50000/50000 [==============================] - 2s 36us/step - loss: 0.9834 - acc: 0.6682 - val_loss: 1.4550 - val_acc: 0.4990\n",
            "Epoch 25/50\n",
            "50000/50000 [==============================] - 2s 36us/step - loss: 0.9656 - acc: 0.6741 - val_loss: 1.4665 - val_acc: 0.4940\n",
            "Epoch 26/50\n",
            "50000/50000 [==============================] - 2s 35us/step - loss: 0.9446 - acc: 0.6843 - val_loss: 1.4584 - val_acc: 0.5010\n",
            "Epoch 27/50\n",
            "50000/50000 [==============================] - 2s 35us/step - loss: 0.9242 - acc: 0.6925 - val_loss: 1.4781 - val_acc: 0.4965\n",
            "Epoch 28/50\n",
            "50000/50000 [==============================] - 2s 35us/step - loss: 0.9039 - acc: 0.6993 - val_loss: 1.4790 - val_acc: 0.4952\n",
            "Epoch 29/50\n",
            "50000/50000 [==============================] - 2s 35us/step - loss: 0.8863 - acc: 0.7052 - val_loss: 1.4780 - val_acc: 0.5004\n",
            "Epoch 30/50\n",
            "50000/50000 [==============================] - 2s 36us/step - loss: 0.8634 - acc: 0.7142 - val_loss: 1.4851 - val_acc: 0.4923\n",
            "Epoch 31/50\n",
            "50000/50000 [==============================] - 2s 34us/step - loss: 0.8441 - acc: 0.7225 - val_loss: 1.4890 - val_acc: 0.4991\n",
            "Epoch 32/50\n",
            "50000/50000 [==============================] - 2s 36us/step - loss: 0.8256 - acc: 0.7286 - val_loss: 1.4961 - val_acc: 0.4995\n",
            "Epoch 33/50\n",
            "50000/50000 [==============================] - 2s 35us/step - loss: 0.8057 - acc: 0.7366 - val_loss: 1.4959 - val_acc: 0.5048\n",
            "Epoch 34/50\n",
            "50000/50000 [==============================] - 2s 36us/step - loss: 0.7881 - acc: 0.7449 - val_loss: 1.5148 - val_acc: 0.4990\n",
            "Epoch 35/50\n",
            "50000/50000 [==============================] - 2s 35us/step - loss: 0.7700 - acc: 0.7510 - val_loss: 1.5130 - val_acc: 0.4999\n",
            "Epoch 36/50\n",
            "50000/50000 [==============================] - 2s 35us/step - loss: 0.7480 - acc: 0.7603 - val_loss: 1.5335 - val_acc: 0.4945\n",
            "Epoch 37/50\n",
            "50000/50000 [==============================] - 2s 35us/step - loss: 0.7296 - acc: 0.7689 - val_loss: 1.5378 - val_acc: 0.4989\n",
            "Epoch 38/50\n",
            "50000/50000 [==============================] - 2s 35us/step - loss: 0.7106 - acc: 0.7768 - val_loss: 1.5488 - val_acc: 0.4889\n",
            "Epoch 39/50\n",
            "50000/50000 [==============================] - 2s 35us/step - loss: 0.6925 - acc: 0.7838 - val_loss: 1.5559 - val_acc: 0.4909\n",
            "Epoch 40/50\n",
            "50000/50000 [==============================] - 2s 35us/step - loss: 0.6739 - acc: 0.7920 - val_loss: 1.5537 - val_acc: 0.4929\n",
            "Epoch 41/50\n",
            "50000/50000 [==============================] - 2s 34us/step - loss: 0.6568 - acc: 0.7963 - val_loss: 1.5751 - val_acc: 0.4899\n",
            "Epoch 42/50\n",
            "50000/50000 [==============================] - 2s 35us/step - loss: 0.6371 - acc: 0.8051 - val_loss: 1.5946 - val_acc: 0.4868\n",
            "Epoch 43/50\n",
            "50000/50000 [==============================] - 2s 36us/step - loss: 0.6201 - acc: 0.8112 - val_loss: 1.5945 - val_acc: 0.4947\n",
            "Epoch 44/50\n",
            "50000/50000 [==============================] - 2s 35us/step - loss: 0.6018 - acc: 0.8186 - val_loss: 1.5992 - val_acc: 0.4947\n",
            "Epoch 45/50\n",
            "50000/50000 [==============================] - 2s 36us/step - loss: 0.5815 - acc: 0.8268 - val_loss: 1.6183 - val_acc: 0.4883\n",
            "Epoch 46/50\n",
            "50000/50000 [==============================] - 2s 35us/step - loss: 0.5663 - acc: 0.8333 - val_loss: 1.6360 - val_acc: 0.4875\n",
            "Epoch 47/50\n",
            "50000/50000 [==============================] - 2s 36us/step - loss: 0.5484 - acc: 0.8400 - val_loss: 1.6539 - val_acc: 0.4882\n",
            "Epoch 48/50\n",
            "50000/50000 [==============================] - 2s 35us/step - loss: 0.5329 - acc: 0.8457 - val_loss: 1.6634 - val_acc: 0.4910\n",
            "Epoch 49/50\n",
            "50000/50000 [==============================] - 2s 35us/step - loss: 0.5182 - acc: 0.8523 - val_loss: 1.6692 - val_acc: 0.4909\n",
            "Epoch 50/50\n",
            "50000/50000 [==============================] - 2s 35us/step - loss: 0.4995 - acc: 0.8598 - val_loss: 1.6811 - val_acc: 0.4815\n"
          ],
          "name": "stdout"
        }
      ]
    },
    {
      "cell_type": "code",
      "metadata": {
        "colab_type": "code",
        "id": "s7YpKcrmbbkp",
        "outputId": "c0426020-6d0b-4426-b7c2-15f80431509b",
        "colab": {
          "base_uri": "https://localhost:8080/",
          "height": 503
        }
      },
      "source": [
        "# Load back\n",
        "model_2 = build_mlp(input_shape=x_train.shape[1:])\n",
        "model_2.summary()\n",
        "optimizer = keras.optimizers.SGD(lr=LEARNING_RATE, nesterov=True, momentum=MOMENTUM)\n",
        "model_2.compile(loss=\"categorical_crossentropy\", metrics=[\"accuracy\"], optimizer=optimizer)\n",
        "model_2.load_weights(\"/content/gdrive/My Drive/ml_models/day_086_best_val_loss_weights_2.h5\", by_name = True)\n",
        "model_2.fit(x_train, y_train, \n",
        "          epochs=1, \n",
        "          batch_size=BATCH_SIZE, \n",
        "          validation_data=(x_test, y_test), \n",
        "          shuffle=True,)\n",
        "\n",
        "\n",
        "loss_loadback, acc_loadback = model_2.evaluate(x_test, y_test)"
      ],
      "execution_count": 11,
      "outputs": [
        {
          "output_type": "stream",
          "text": [
            "Model: \"model_3\"\n",
            "_________________________________________________________________\n",
            "Layer (type)                 Output Shape              Param #   \n",
            "=================================================================\n",
            "input_3 (InputLayer)         (None, 3072)              0         \n",
            "_________________________________________________________________\n",
            "hidden_layer1 (Dense)        (None, 512)               1573376   \n",
            "_________________________________________________________________\n",
            "batch_normalization_7 (Batch (None, 512)               2048      \n",
            "_________________________________________________________________\n",
            "hidden_layer2 (Dense)        (None, 256)               131328    \n",
            "_________________________________________________________________\n",
            "batch_normalization_8 (Batch (None, 256)               1024      \n",
            "_________________________________________________________________\n",
            "hidden_layer3 (Dense)        (None, 128)               32896     \n",
            "_________________________________________________________________\n",
            "batch_normalization_9 (Batch (None, 128)               512       \n",
            "_________________________________________________________________\n",
            "output (Dense)               (None, 10)                1290      \n",
            "=================================================================\n",
            "Total params: 1,742,474\n",
            "Trainable params: 1,740,682\n",
            "Non-trainable params: 1,792\n",
            "_________________________________________________________________\n",
            "Train on 50000 samples, validate on 10000 samples\n",
            "Epoch 1/1\n",
            "50000/50000 [==============================] - 3s 50us/step - loss: 1.0992 - acc: 0.6236 - val_loss: 1.4717 - val_acc: 0.4921\n",
            "10000/10000 [==============================] - 1s 89us/step\n"
          ],
          "name": "stdout"
        }
      ]
    },
    {
      "cell_type": "code",
      "metadata": {
        "colab_type": "code",
        "id": "htA4evkqbbkt",
        "outputId": "9f2e826f-8b3b-4edf-c107-1725e34f065b",
        "scrolled": true,
        "colab": {
          "base_uri": "https://localhost:8080/",
          "height": 545
        }
      },
      "source": [
        "import matplotlib.pyplot as plt\n",
        "%matplotlib inline\n",
        "\"\"\"Code Here\n",
        "將結果繪出\n",
        "\"\"\"\n",
        "plt.plot(range(len(train_loss)), train_loss, label=\"train loss\")\n",
        "plt.plot(range(len(valid_loss)), valid_loss, label=\"valid loss\")\n",
        "plt.hlines(y=loss_loadback, xmin=0, xmax=len(train_loss), colors='r', linestyles='--')\n",
        "plt.legend()\n",
        "plt.title(\"Loss\")\n",
        "plt.show()\n",
        "\n",
        "plt.plot(range(len(train_acc)), train_acc, label=\"train accuracy\")\n",
        "plt.plot(range(len(valid_acc)), valid_acc, label=\"valid accuracy\")\n",
        "plt.hlines(y=acc_loadback, xmin=0, xmax=len(train_loss), colors='r', linestyles='--')\n",
        "plt.legend()\n",
        "plt.title(\"Accuracy\")\n",
        "plt.show()"
      ],
      "execution_count": 12,
      "outputs": [
        {
          "output_type": "display_data",
          "data": {
            "image/png": "[encoded data removed]",
            "text/plain": [
              "<Figure size 432x288 with 1 Axes>"
            ]
          },
          "metadata": {
            "tags": []
          }
        },
        {
          "output_type": "display_data",
          "data": {
            "image/png": "[encoded data removed]",
            "text/plain": [
              "<Figure size 432x288 with 1 Axes>"
            ]
          },
          "metadata": {
            "tags": []
          }
        }
      ]
    },
    {
      "cell_type": "code",
      "metadata": {
        "id": "jfrQwHNBptW6",
        "colab_type": "code",
        "colab": {}
      },
      "source": [
        ""
      ],
      "execution_count": 0,
      "outputs": []
    }
  ]
}