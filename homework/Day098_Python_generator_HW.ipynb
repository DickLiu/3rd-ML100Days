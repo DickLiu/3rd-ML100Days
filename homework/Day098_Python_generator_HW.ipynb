{
  "nbformat": 4,
  "nbformat_minor": 0,
  "metadata": {
    "kernelspec": {
      "name": "python3",
      "display_name": "Python 3"
    },
    "language_info": {
      "codemirror_mode": {
        "name": "ipython",
        "version": 3
      },
      "file_extension": ".py",
      "mimetype": "text/x-python",
      "name": "python",
      "nbconvert_exporter": "python",
      "pygments_lexer": "ipython3",
      "version": "3.6.2"
    },
    "colab": {
      "name": "Day098_Python_generator_HW.ipynb",
      "provenance": [],
      "collapsed_sections": []
    },
    "accelerator": "GPU"
  },
  "cells": [
    {
      "cell_type": "code",
      "metadata": {
        "id": "MOBvvx73R7Tz",
        "colab_type": "code",
        "colab": {}
      },
      "source": [
        "import keras\n",
        "from keras.datasets import cifar10\n",
        "from keras.preprocessing.image import ImageDataGenerator\n",
        "from keras.models import Sequential\n",
        "from keras.layers import Dense, Dropout, Activation, Flatten\n",
        "from keras.layers.normalization import BatchNormalization\n",
        "from keras.layers import Conv2D, MaxPooling2D\n",
        "from keras.optimizers import RMSprop, Adam\n",
        "import os"
      ],
      "execution_count": 0,
      "outputs": []
    },
    {
      "cell_type": "code",
      "metadata": {
        "id": "xqzyKWK6mJDV",
        "colab_type": "code",
        "colab": {}
      },
      "source": [
        "batch_size = 128 # batch 的大小，如果出現 OOM error，請降低這個值\n",
        "num_classes = 10 # 類別的數量，Cifar 10 共有 10 個類別\n",
        "epochs = 50 # 訓練的 epochs 數量\n",
        "LEARNING_RATE = 1e-3\n",
        "optimizers = [RMSprop, Adam]"
      ],
      "execution_count": 0,
      "outputs": []
    },
    {
      "cell_type": "code",
      "metadata": {
        "id": "WXgFe1txR7UD",
        "colab_type": "code",
        "outputId": "237a2e8c-aa50-47b9-e24d-070a8a427fe3",
        "colab": {
          "base_uri": "https://localhost:8080/",
          "height": 69
        }
      },
      "source": [
        "(x_train, y_train), (x_test, y_test) = cifar10.load_data()\n",
        "print('x_train shape:', x_train.shape)\n",
        "print(x_train.shape[0], 'train samples')\n",
        "print(x_test.shape[0], 'test samples')\n",
        "x_train = x_train.astype('float32')\n",
        "x_test = x_test.astype('float32')\n",
        "x_train /= 255\n",
        "x_test /= 255\n",
        "\n",
        "# Convert class vectors to binary class matrices.\n",
        "y_train = keras.utils.to_categorical(y_train, num_classes)\n",
        "y_test = keras.utils.to_categorical(y_test, num_classes)"
      ],
      "execution_count": 27,
      "outputs": [
        {
          "output_type": "stream",
          "text": [
            "x_train shape: (50000, 32, 32, 3)\n",
            "50000 train samples\n",
            "10000 test samples\n"
          ],
          "name": "stdout"
        }
      ]
    },
    {
      "cell_type": "code",
      "metadata": {
        "id": "PhvAV6GLYhuz",
        "colab_type": "code",
        "outputId": "d359f057-f524-4d0b-d3ec-4208f968ddac",
        "colab": {
          "base_uri": "https://localhost:8080/",
          "height": 35
        }
      },
      "source": [
        "x_train.shape[1:]"
      ],
      "execution_count": 18,
      "outputs": [
        {
          "output_type": "execute_result",
          "data": {
            "text/plain": [
              "(32, 32, 3)"
            ]
          },
          "metadata": {
            "tags": []
          },
          "execution_count": 18
        }
      ]
    },
    {
      "cell_type": "code",
      "metadata": {
        "id": "4vn50_hq9FRc",
        "colab_type": "code",
        "colab": {}
      },
      "source": [
        "def cifar_generator(x, y, batch_size=128):\n",
        "    while True:\n",
        "        for indexs in range(0, len(x), batch_size):\n",
        "            images = x[indexs: indexs+batch_size]\n",
        "            labels = y[indexs: indexs+batch_size]\n",
        "            yield images, labels"
      ],
      "execution_count": 0,
      "outputs": []
    },
    {
      "cell_type": "code",
      "metadata": {
        "id": "_kpQKg5p9S-A",
        "colab_type": "code",
        "colab": {}
      },
      "source": [
        "cifar_gen_train = cifar_generator(x_train, y_train)\n",
        "cifar_gen_test = cifar_generator(x_test, y_test)"
      ],
      "execution_count": 0,
      "outputs": []
    },
    {
      "cell_type": "code",
      "metadata": {
        "id": "R70GPimZnFVz",
        "colab_type": "code",
        "colab": {}
      },
      "source": [
        "def build_cnn(input_shape, output_units=10, num_neurons=512):\n",
        "  model = Sequential()\n",
        "  model.add(Conv2D(32, (3, 3), padding='same',\n",
        "                  input_shape=input_shape))\n",
        "  model.add(Activation('relu'))\n",
        "  model.add(Conv2D(32, (3, 3)))\n",
        "  model.add(Activation('relu'))\n",
        "  model.add(MaxPooling2D(pool_size=(2, 2)))\n",
        "  model.add(Dropout(0.25))\n",
        "\n",
        "  model.add(Conv2D(64, (3, 3), padding='same'))\n",
        "  model.add(Activation('relu'))\n",
        "  model.add(Conv2D(64, (3, 3)))\n",
        "  model.add(Activation('relu'))\n",
        "  model.add(MaxPooling2D(pool_size=(2, 2)))\n",
        "  model.add(Dropout(0.25))\n",
        "\n",
        "  model.add(Flatten())\n",
        "  model.add(Dense(num_neurons))\n",
        "  model.add(Activation('relu'))\n",
        "  model.add(Dropout(0.5))\n",
        "  model.add(Dense(output_units))\n",
        "  model.add(Activation('softmax'))\n",
        "\n",
        "  return model"
      ],
      "execution_count": 0,
      "outputs": []
    },
    {
      "cell_type": "code",
      "metadata": {
        "id": "tyh-y9qg-frN",
        "colab_type": "code",
        "outputId": "6d796cf1-a24d-422e-b2b8-e54f44bb9440",
        "colab": {
          "base_uri": "https://localhost:8080/",
          "height": 1000
        }
      },
      "source": [
        "model = build_cnn(input_shape=x_train.shape[1:])\n",
        "model.summary()\n",
        "\n",
        "optimizer = keras.optimizers.Adam(lr=LEARNING_RATE)\n",
        "\n",
        "model.compile(loss='categorical_crossentropy',\n",
        "              optimizer=optimizer,\n",
        "              metrics=['accuracy'])\n",
        "\n",
        "model.fit_generator(cifar_gen_train,                      \n",
        "                    steps_per_epoch=400, # train size 50000 除以 batch size 128 約 400\n",
        "                    epochs=epochs,\n",
        "                    verbose=1,\n",
        "                    validation_steps=80, # 10000 / 128 約 80\n",
        "                    validation_data=cifar_gen_test)\n",
        "\n",
        "# Collect results\n",
        "train_loss = model.history.history[\"loss\"]\n",
        "valid_loss = model.history.history[\"val_loss\"]\n",
        "train_acc = model.history.history[\"acc\"]\n",
        "valid_acc = model.history.history[\"val_acc\"]\n",
        "\n",
        "# exp_name_tag = \"batch size:{}\".format(_batch)  \n",
        "score = model.evaluate(x_test, y_test, verbose=0)\n",
        "# results[exp_name_tag] = {'train-loss': train_loss,\n",
        "#                           'valid-loss': valid_loss,\n",
        "#                           'train-acc': train_acc,\n",
        "#                           'valid-acc': valid_acc,\n",
        "#                           'score': score,}\n",
        "# print(exp_name_tag)\n",
        "print('Test loss:', score[0])\n",
        "print('Test accuracy:', score[1])"
      ],
      "execution_count": 35,
      "outputs": [
        {
          "output_type": "stream",
          "text": [
            "Model: \"sequential_5\"\n",
            "_________________________________________________________________\n",
            "Layer (type)                 Output Shape              Param #   \n",
            "=================================================================\n",
            "conv2d_17 (Conv2D)           (None, 32, 32, 32)        896       \n",
            "_________________________________________________________________\n",
            "activation_25 (Activation)   (None, 32, 32, 32)        0         \n",
            "_________________________________________________________________\n",
            "conv2d_18 (Conv2D)           (None, 30, 30, 32)        9248      \n",
            "_________________________________________________________________\n",
            "activation_26 (Activation)   (None, 30, 30, 32)        0         \n",
            "_________________________________________________________________\n",
            "max_pooling2d_9 (MaxPooling2 (None, 15, 15, 32)        0         \n",
            "_________________________________________________________________\n",
            "dropout_13 (Dropout)         (None, 15, 15, 32)        0         \n",
            "_________________________________________________________________\n",
            "conv2d_19 (Conv2D)           (None, 15, 15, 64)        18496     \n",
            "_________________________________________________________________\n",
            "activation_27 (Activation)   (None, 15, 15, 64)        0         \n",
            "_________________________________________________________________\n",
            "conv2d_20 (Conv2D)           (None, 13, 13, 64)        36928     \n",
            "_________________________________________________________________\n",
            "activation_28 (Activation)   (None, 13, 13, 64)        0         \n",
            "_________________________________________________________________\n",
            "max_pooling2d_10 (MaxPooling (None, 6, 6, 64)          0         \n",
            "_________________________________________________________________\n",
            "dropout_14 (Dropout)         (None, 6, 6, 64)          0         \n",
            "_________________________________________________________________\n",
            "flatten_5 (Flatten)          (None, 2304)              0         \n",
            "_________________________________________________________________\n",
            "dense_9 (Dense)              (None, 512)               1180160   \n",
            "_________________________________________________________________\n",
            "activation_29 (Activation)   (None, 512)               0         \n",
            "_________________________________________________________________\n",
            "dropout_15 (Dropout)         (None, 512)               0         \n",
            "_________________________________________________________________\n",
            "dense_10 (Dense)             (None, 10)                5130      \n",
            "_________________________________________________________________\n",
            "activation_30 (Activation)   (None, 10)                0         \n",
            "=================================================================\n",
            "Total params: 1,250,858\n",
            "Trainable params: 1,250,858\n",
            "Non-trainable params: 0\n",
            "_________________________________________________________________\n",
            "Epoch 1/50\n",
            "WARNING:tensorflow:From /usr/local/lib/python3.6/dist-packages/keras/backend/tensorflow_backend.py:190: The name tf.get_default_session is deprecated. Please use tf.compat.v1.get_default_session instead.\n",
            "\n",
            "WARNING:tensorflow:From /usr/local/lib/python3.6/dist-packages/keras/backend/tensorflow_backend.py:197: The name tf.ConfigProto is deprecated. Please use tf.compat.v1.ConfigProto instead.\n",
            "\n",
            "WARNING:tensorflow:From /usr/local/lib/python3.6/dist-packages/keras/backend/tensorflow_backend.py:207: The name tf.global_variables is deprecated. Please use tf.compat.v1.global_variables instead.\n",
            "\n",
            "WARNING:tensorflow:From /usr/local/lib/python3.6/dist-packages/keras/backend/tensorflow_backend.py:216: The name tf.is_variable_initialized is deprecated. Please use tf.compat.v1.is_variable_initialized instead.\n",
            "\n",
            "WARNING:tensorflow:From /usr/local/lib/python3.6/dist-packages/keras/backend/tensorflow_backend.py:223: The name tf.variables_initializer is deprecated. Please use tf.compat.v1.variables_initializer instead.\n",
            "\n",
            "400/400 [==============================] - 13s 33ms/step - loss: 1.6348 - acc: 0.3991 - val_loss: 1.2719 - val_acc: 0.5428\n",
            "Epoch 2/50\n",
            "400/400 [==============================] - 5s 12ms/step - loss: 1.2242 - acc: 0.5631 - val_loss: 1.0027 - val_acc: 0.6446\n",
            "Epoch 3/50\n",
            "400/400 [==============================] - 5s 12ms/step - loss: 1.0371 - acc: 0.6306 - val_loss: 0.8923 - val_acc: 0.6843\n",
            "Epoch 4/50\n",
            "400/400 [==============================] - 5s 12ms/step - loss: 0.9202 - acc: 0.6743 - val_loss: 0.8646 - val_acc: 0.6959\n",
            "Epoch 5/50\n",
            "400/400 [==============================] - 5s 12ms/step - loss: 0.8450 - acc: 0.7027 - val_loss: 0.7587 - val_acc: 0.7419\n",
            "Epoch 6/50\n",
            "400/400 [==============================] - 5s 12ms/step - loss: 0.7867 - acc: 0.7243 - val_loss: 0.7729 - val_acc: 0.7356\n",
            "Epoch 7/50\n",
            "400/400 [==============================] - 5s 12ms/step - loss: 0.7377 - acc: 0.7407 - val_loss: 0.7053 - val_acc: 0.7543\n",
            "Epoch 8/50\n",
            "400/400 [==============================] - 5s 12ms/step - loss: 0.6929 - acc: 0.7564 - val_loss: 0.7056 - val_acc: 0.7583\n",
            "Epoch 9/50\n",
            "400/400 [==============================] - 5s 12ms/step - loss: 0.6612 - acc: 0.7674 - val_loss: 0.6738 - val_acc: 0.7709\n",
            "Epoch 10/50\n",
            "400/400 [==============================] - 5s 12ms/step - loss: 0.6255 - acc: 0.7788 - val_loss: 0.6870 - val_acc: 0.7632\n",
            "Epoch 11/50\n",
            "400/400 [==============================] - 5s 12ms/step - loss: 0.6042 - acc: 0.7872 - val_loss: 0.6694 - val_acc: 0.7725\n",
            "Epoch 12/50\n",
            "400/400 [==============================] - 5s 12ms/step - loss: 0.5797 - acc: 0.7946 - val_loss: 0.6210 - val_acc: 0.7856\n",
            "Epoch 13/50\n",
            "400/400 [==============================] - 5s 12ms/step - loss: 0.5555 - acc: 0.8023 - val_loss: 0.6335 - val_acc: 0.7850\n",
            "Epoch 14/50\n",
            "400/400 [==============================] - 5s 12ms/step - loss: 0.5351 - acc: 0.8110 - val_loss: 0.6661 - val_acc: 0.7753\n",
            "Epoch 15/50\n",
            "400/400 [==============================] - 5s 12ms/step - loss: 0.5133 - acc: 0.8176 - val_loss: 0.6339 - val_acc: 0.7820\n",
            "Epoch 16/50\n",
            "400/400 [==============================] - 5s 12ms/step - loss: 0.5020 - acc: 0.8208 - val_loss: 0.6385 - val_acc: 0.7850\n",
            "Epoch 17/50\n",
            "400/400 [==============================] - 5s 12ms/step - loss: 0.4817 - acc: 0.8289 - val_loss: 0.6384 - val_acc: 0.7870\n",
            "Epoch 18/50\n",
            "400/400 [==============================] - 5s 12ms/step - loss: 0.4668 - acc: 0.8321 - val_loss: 0.6366 - val_acc: 0.7894\n",
            "Epoch 19/50\n",
            "400/400 [==============================] - 5s 11ms/step - loss: 0.4585 - acc: 0.8359 - val_loss: 0.6273 - val_acc: 0.7856\n",
            "Epoch 20/50\n",
            "400/400 [==============================] - 5s 12ms/step - loss: 0.4430 - acc: 0.8425 - val_loss: 0.6402 - val_acc: 0.7899\n",
            "Epoch 21/50\n",
            "400/400 [==============================] - 5s 12ms/step - loss: 0.4311 - acc: 0.8457 - val_loss: 0.6581 - val_acc: 0.7881\n",
            "Epoch 22/50\n",
            "400/400 [==============================] - 5s 12ms/step - loss: 0.4182 - acc: 0.8510 - val_loss: 0.6313 - val_acc: 0.7927\n",
            "Epoch 23/50\n",
            "400/400 [==============================] - 5s 12ms/step - loss: 0.4156 - acc: 0.8531 - val_loss: 0.6394 - val_acc: 0.7913\n",
            "Epoch 24/50\n",
            "400/400 [==============================] - 5s 12ms/step - loss: 0.3990 - acc: 0.8568 - val_loss: 0.6551 - val_acc: 0.7940\n",
            "Epoch 25/50\n",
            "400/400 [==============================] - 5s 12ms/step - loss: 0.3922 - acc: 0.8590 - val_loss: 0.6344 - val_acc: 0.7894\n",
            "Epoch 26/50\n",
            "400/400 [==============================] - 5s 12ms/step - loss: 0.3830 - acc: 0.8650 - val_loss: 0.6638 - val_acc: 0.7947\n",
            "Epoch 27/50\n",
            "400/400 [==============================] - 5s 12ms/step - loss: 0.3799 - acc: 0.8647 - val_loss: 0.6464 - val_acc: 0.7960\n",
            "Epoch 28/50\n",
            "400/400 [==============================] - 5s 12ms/step - loss: 0.3651 - acc: 0.8684 - val_loss: 0.6444 - val_acc: 0.7982\n",
            "Epoch 29/50\n",
            "400/400 [==============================] - 5s 12ms/step - loss: 0.3622 - acc: 0.8706 - val_loss: 0.6294 - val_acc: 0.7981\n",
            "Epoch 30/50\n",
            "400/400 [==============================] - 5s 12ms/step - loss: 0.3539 - acc: 0.8740 - val_loss: 0.6544 - val_acc: 0.8001\n",
            "Epoch 31/50\n",
            "400/400 [==============================] - 5s 12ms/step - loss: 0.3462 - acc: 0.8765 - val_loss: 0.6532 - val_acc: 0.7973\n",
            "Epoch 32/50\n",
            "400/400 [==============================] - 5s 11ms/step - loss: 0.3434 - acc: 0.8787 - val_loss: 0.6421 - val_acc: 0.8000\n",
            "Epoch 33/50\n",
            "400/400 [==============================] - 5s 12ms/step - loss: 0.3381 - acc: 0.8783 - val_loss: 0.6572 - val_acc: 0.7970\n",
            "Epoch 34/50\n",
            "400/400 [==============================] - 5s 12ms/step - loss: 0.3312 - acc: 0.8824 - val_loss: 0.6596 - val_acc: 0.7982\n",
            "Epoch 35/50\n",
            "400/400 [==============================] - 5s 12ms/step - loss: 0.3275 - acc: 0.8834 - val_loss: 0.6753 - val_acc: 0.7927\n",
            "Epoch 36/50\n",
            "400/400 [==============================] - 5s 11ms/step - loss: 0.3204 - acc: 0.8847 - val_loss: 0.6439 - val_acc: 0.8074\n",
            "Epoch 37/50\n",
            "400/400 [==============================] - 5s 12ms/step - loss: 0.3071 - acc: 0.8901 - val_loss: 0.6445 - val_acc: 0.8059\n",
            "Epoch 38/50\n",
            "400/400 [==============================] - 5s 12ms/step - loss: 0.3133 - acc: 0.8891 - val_loss: 0.6621 - val_acc: 0.7994\n",
            "Epoch 39/50\n",
            "400/400 [==============================] - 5s 12ms/step - loss: 0.3054 - acc: 0.8909 - val_loss: 0.6510 - val_acc: 0.7991\n",
            "Epoch 40/50\n",
            "400/400 [==============================] - 5s 12ms/step - loss: 0.3021 - acc: 0.8928 - val_loss: 0.6976 - val_acc: 0.7923\n",
            "Epoch 41/50\n",
            "400/400 [==============================] - 5s 12ms/step - loss: 0.2944 - acc: 0.8949 - val_loss: 0.6739 - val_acc: 0.8014\n",
            "Epoch 42/50\n",
            "400/400 [==============================] - 5s 12ms/step - loss: 0.3001 - acc: 0.8947 - val_loss: 0.6399 - val_acc: 0.8086\n",
            "Epoch 43/50\n",
            "400/400 [==============================] - 5s 11ms/step - loss: 0.2939 - acc: 0.8954 - val_loss: 0.6557 - val_acc: 0.8033\n",
            "Epoch 44/50\n",
            "400/400 [==============================] - 5s 12ms/step - loss: 0.2822 - acc: 0.8985 - val_loss: 0.6892 - val_acc: 0.7994\n",
            "Epoch 45/50\n",
            "400/400 [==============================] - 5s 11ms/step - loss: 0.2810 - acc: 0.9005 - val_loss: 0.6659 - val_acc: 0.8063\n",
            "Epoch 46/50\n",
            "400/400 [==============================] - 5s 12ms/step - loss: 0.2838 - acc: 0.8985 - val_loss: 0.6545 - val_acc: 0.8059\n",
            "Epoch 47/50\n",
            "400/400 [==============================] - 5s 11ms/step - loss: 0.2754 - acc: 0.9020 - val_loss: 0.6807 - val_acc: 0.8064\n",
            "Epoch 48/50\n",
            "400/400 [==============================] - 5s 12ms/step - loss: 0.2795 - acc: 0.9000 - val_loss: 0.6576 - val_acc: 0.8138\n",
            "Epoch 49/50\n",
            "400/400 [==============================] - 5s 12ms/step - loss: 0.2710 - acc: 0.9033 - val_loss: 0.7007 - val_acc: 0.8018\n",
            "Epoch 50/50\n",
            "400/400 [==============================] - 5s 12ms/step - loss: 0.2683 - acc: 0.9062 - val_loss: 0.6531 - val_acc: 0.8055\n",
            "Test loss: 0.657518986749649\n",
            "Test accuracy: 0.8045\n"
          ],
          "name": "stdout"
        }
      ]
    }
  ]
}