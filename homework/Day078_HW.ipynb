{
 "cells": [
  {
   "cell_type": "markdown",
   "metadata": {},
   "source": [
    "## Work\n",
    "1. 請嘗試將 preproc_x 替換成以每筆資料的 min/max 進行標準化至 -1 ~ 1 間，再進行訓練\n",
    "2. 請嘗試將 mlp 疊更深 (e.g 5~10 層)，進行訓練後觀察 learning curve 的走勢\n",
    "3. (optional) 請改用 GPU 進行訓練 (如果你有 GPU 的話)，比較使用 CPU 與 GPU 的訓練速度"
   ]
  },
  {
   "cell_type": "code",
   "execution_count": null,
   "metadata": {},
   "outputs": [],
   "source": [
    "## \n",
    "\"\"\"\n",
    "Your code here (optional)\n",
    "確認硬體資源\n",
    "\"\"\"\n"
   ]
  },
  {
   "cell_type": "code",
   "execution_count": 1,
   "metadata": {
    "scrolled": true
   },
   "outputs": [
    {
     "name": "stderr",
     "output_type": "stream",
     "text": [
      "Using TensorFlow backend.\n",
      "C:\\Users\\Dick\\Anaconda3\\envs\\tensorflow-gpu\\lib\\site-packages\\tensorflow\\python\\framework\\dtypes.py:523: FutureWarning: Passing (type, 1) or '1type' as a synonym of type is deprecated; in a future version of numpy, it will be understood as (type, (1,)) / '(1,)type'.\n",
      "  _np_qint8 = np.dtype([(\"qint8\", np.int8, 1)])\n",
      "C:\\Users\\Dick\\Anaconda3\\envs\\tensorflow-gpu\\lib\\site-packages\\tensorflow\\python\\framework\\dtypes.py:524: FutureWarning: Passing (type, 1) or '1type' as a synonym of type is deprecated; in a future version of numpy, it will be understood as (type, (1,)) / '(1,)type'.\n",
      "  _np_quint8 = np.dtype([(\"quint8\", np.uint8, 1)])\n",
      "C:\\Users\\Dick\\Anaconda3\\envs\\tensorflow-gpu\\lib\\site-packages\\tensorflow\\python\\framework\\dtypes.py:525: FutureWarning: Passing (type, 1) or '1type' as a synonym of type is deprecated; in a future version of numpy, it will be understood as (type, (1,)) / '(1,)type'.\n",
      "  _np_qint16 = np.dtype([(\"qint16\", np.int16, 1)])\n",
      "C:\\Users\\Dick\\Anaconda3\\envs\\tensorflow-gpu\\lib\\site-packages\\tensorflow\\python\\framework\\dtypes.py:526: FutureWarning: Passing (type, 1) or '1type' as a synonym of type is deprecated; in a future version of numpy, it will be understood as (type, (1,)) / '(1,)type'.\n",
      "  _np_quint16 = np.dtype([(\"quint16\", np.uint16, 1)])\n",
      "C:\\Users\\Dick\\Anaconda3\\envs\\tensorflow-gpu\\lib\\site-packages\\tensorflow\\python\\framework\\dtypes.py:527: FutureWarning: Passing (type, 1) or '1type' as a synonym of type is deprecated; in a future version of numpy, it will be understood as (type, (1,)) / '(1,)type'.\n",
      "  _np_qint32 = np.dtype([(\"qint32\", np.int32, 1)])\n",
      "C:\\Users\\Dick\\Anaconda3\\envs\\tensorflow-gpu\\lib\\site-packages\\tensorflow\\python\\framework\\dtypes.py:532: FutureWarning: Passing (type, 1) or '1type' as a synonym of type is deprecated; in a future version of numpy, it will be understood as (type, (1,)) / '(1,)type'.\n",
      "  np_resource = np.dtype([(\"resource\", np.ubyte, 1)])\n"
     ]
    }
   ],
   "source": [
    "import os\n",
    "import keras\n",
    "import sklearn\n",
    "from sklearn.preprocessing import MinMaxScaler\n",
    "# 請嘗試設定 GPU：os.environ\n"
   ]
  },
  {
   "cell_type": "code",
   "execution_count": 2,
   "metadata": {},
   "outputs": [],
   "source": [
    "train, test = keras.datasets.cifar10.load_data()"
   ]
  },
  {
   "cell_type": "code",
   "execution_count": 3,
   "metadata": {},
   "outputs": [],
   "source": [
    "x_train, y_train = train\n",
    "x_test, y_test = test"
   ]
  },
  {
   "cell_type": "code",
   "execution_count": 6,
   "metadata": {},
   "outputs": [],
   "source": [
    "## 資料前處理\n",
    "\"\"\"\n",
    "Your code here\n",
    "\"\"\"\n",
    "def preproc_x(x, flatten=True):\n",
    "    x_orig_shape = x.shape\n",
    "    scaler = MinMaxScaler(feature_range=(-1, 1))\n",
    "    x = scaler.fit_transform(x.reshape((len(x), -1)))\n",
    "    if flatten:\n",
    "        return x\n",
    "    return x.reshape(x_orig_shape)\n",
    "\n",
    "def preproc_y(y, num_classes=10):\n",
    "    if y.shape[-1] == 1:\n",
    "        y = keras.utils.to_categorical(y, num_classes)\n",
    "    return y"
   ]
  },
  {
   "cell_type": "code",
   "execution_count": 7,
   "metadata": {},
   "outputs": [],
   "source": [
    "x_train, y_train = train\n",
    "x_test, y_test = test\n",
    "\n",
    "# Preproc the inputs\n",
    "x_train = preproc_x(x_train)\n",
    "x_test = preproc_x(x_test)\n",
    "\n",
    "# Preprc the outputs\n",
    "y_train = preproc_y(y_train)\n",
    "y_test = preproc_y(y_test)"
   ]
  },
  {
   "cell_type": "code",
   "execution_count": 10,
   "metadata": {},
   "outputs": [],
   "source": [
    "\"\"\"Code Here\n",
    "建立你的神經網路\n",
    "\"\"\"\n",
    "def build_mlp(input_shape, output_units=10, num_neurons=[512, 256, 128, 64, 32, 16, 8]):\n",
    "    input_layer = keras.layers.Input(input_shape)\n",
    "    \n",
    "    for i, n_units in enumerate(num_neurons):\n",
    "        if i == 0:\n",
    "            x = keras.layers.Dense(units=n_units, activation=\"relu\", name=\"hidden_layer\"+str(i+1))(input_layer)\n",
    "        else:\n",
    "            x = keras.layers.Dense(units=n_units, activation=\"relu\", name=\"hidden_layer\"+str(i+1))(x)\n",
    "    \n",
    "    out = keras.layers.Dense(units=output_units, activation=\"softmax\", name=\"output\")(x)\n",
    "    \n",
    "    model = keras.models.Model(inputs=[input_layer], outputs=[out])\n",
    "    return model"
   ]
  },
  {
   "cell_type": "code",
   "execution_count": 11,
   "metadata": {},
   "outputs": [
    {
     "name": "stdout",
     "output_type": "stream",
     "text": [
      "_________________________________________________________________\n",
      "Layer (type)                 Output Shape              Param #   \n",
      "=================================================================\n",
      "input_1 (InputLayer)         (None, 3072)              0         \n",
      "_________________________________________________________________\n",
      "hidden_layer1 (Dense)        (None, 512)               1573376   \n",
      "_________________________________________________________________\n",
      "hidden_layer2 (Dense)        (None, 256)               131328    \n",
      "_________________________________________________________________\n",
      "hidden_layer3 (Dense)        (None, 128)               32896     \n",
      "_________________________________________________________________\n",
      "hidden_layer4 (Dense)        (None, 64)                8256      \n",
      "_________________________________________________________________\n",
      "hidden_layer5 (Dense)        (None, 32)                2080      \n",
      "_________________________________________________________________\n",
      "hidden_layer6 (Dense)        (None, 16)                528       \n",
      "_________________________________________________________________\n",
      "hidden_layer7 (Dense)        (None, 8)                 136       \n",
      "_________________________________________________________________\n",
      "output (Dense)               (None, 10)                90        \n",
      "=================================================================\n",
      "Total params: 1,748,690\n",
      "Trainable params: 1,748,690\n",
      "Non-trainable params: 0\n",
      "_________________________________________________________________\n"
     ]
    }
   ],
   "source": [
    "model = build_mlp(input_shape=x_train.shape[1:])\n",
    "model.summary()"
   ]
  },
  {
   "cell_type": "code",
   "execution_count": 12,
   "metadata": {},
   "outputs": [],
   "source": [
    "## 超參數設定\n",
    "LEARNING_RATE = 0.001\n",
    "EPOCHS = 100\n",
    "BATCH_SIZE = 256"
   ]
  },
  {
   "cell_type": "code",
   "execution_count": 13,
   "metadata": {},
   "outputs": [],
   "source": [
    "optimizer = keras.optimizers.Adam(lr=LEARNING_RATE)\n",
    "model.compile(loss=\"categorical_crossentropy\", metrics=[\"accuracy\"], optimizer=optimizer)"
   ]
  },
  {
   "cell_type": "code",
   "execution_count": 14,
   "metadata": {},
   "outputs": [
    {
     "name": "stdout",
     "output_type": "stream",
     "text": [
      "Train on 50000 samples, validate on 10000 samples\n",
      "Epoch 1/100\n",
      "50000/50000 [==============================] - 16s 320us/step - loss: 2.0002 - acc: 0.2818 - val_loss: 1.8013 - val_acc: 0.3694\n",
      "Epoch 2/100\n",
      "50000/50000 [==============================] - 9s 187us/step - loss: 1.6577 - acc: 0.4180 - val_loss: 1.5542 - val_acc: 0.4540\n",
      "Epoch 3/100\n",
      "50000/50000 [==============================] - 9s 190us/step - loss: 1.4939 - acc: 0.4754 - val_loss: 1.4906 - val_acc: 0.4814\n",
      "Epoch 4/100\n",
      "50000/50000 [==============================] - 9s 187us/step - loss: 1.3806 - acc: 0.5161 - val_loss: 1.4338 - val_acc: 0.4988\n",
      "Epoch 5/100\n",
      "50000/50000 [==============================] - 9s 187us/step - loss: 1.2982 - acc: 0.5466 - val_loss: 1.3964 - val_acc: 0.5182\n",
      "Epoch 6/100\n",
      "50000/50000 [==============================] - 9s 188us/step - loss: 1.2201 - acc: 0.5746 - val_loss: 1.3920 - val_acc: 0.5175\n",
      "Epoch 7/100\n",
      "50000/50000 [==============================] - 10s 198us/step - loss: 1.1422 - acc: 0.5992 - val_loss: 1.4162 - val_acc: 0.5208\n",
      "Epoch 8/100\n",
      "50000/50000 [==============================] - 9s 188us/step - loss: 1.0758 - acc: 0.6222 - val_loss: 1.4039 - val_acc: 0.5312\n",
      "Epoch 9/100\n",
      "50000/50000 [==============================] - 9s 184us/step - loss: 1.0024 - acc: 0.6481 - val_loss: 1.4410 - val_acc: 0.5244\n",
      "Epoch 10/100\n",
      "50000/50000 [==============================] - 9s 186us/step - loss: 0.9379 - acc: 0.6717 - val_loss: 1.4420 - val_acc: 0.5371\n",
      "Epoch 11/100\n",
      "50000/50000 [==============================] - 9s 183us/step - loss: 0.8636 - acc: 0.6963 - val_loss: 1.5210 - val_acc: 0.5228\n",
      "Epoch 12/100\n",
      "50000/50000 [==============================] - 9s 184us/step - loss: 0.8065 - acc: 0.7167 - val_loss: 1.5133 - val_acc: 0.5423\n",
      "Epoch 13/100\n",
      "50000/50000 [==============================] - 9s 184us/step - loss: 0.7408 - acc: 0.7406 - val_loss: 1.5807 - val_acc: 0.5311\n",
      "Epoch 14/100\n",
      "50000/50000 [==============================] - 10s 199us/step - loss: 0.6756 - acc: 0.7624 - val_loss: 1.6567 - val_acc: 0.5347\n",
      "Epoch 15/100\n",
      "50000/50000 [==============================] - 10s 202us/step - loss: 0.6287 - acc: 0.7772 - val_loss: 1.7229 - val_acc: 0.5347\n",
      "Epoch 16/100\n",
      "50000/50000 [==============================] - 11s 215us/step - loss: 0.5801 - acc: 0.7960 - val_loss: 1.7650 - val_acc: 0.5281\n",
      "Epoch 17/100\n",
      "50000/50000 [==============================] - 10s 204us/step - loss: 0.5304 - acc: 0.8125 - val_loss: 1.8448 - val_acc: 0.5371\n",
      "Epoch 18/100\n",
      "50000/50000 [==============================] - 10s 195us/step - loss: 0.4942 - acc: 0.8257 - val_loss: 1.9669 - val_acc: 0.5244\n",
      "Epoch 19/100\n",
      "50000/50000 [==============================] - 10s 197us/step - loss: 0.4609 - acc: 0.8381 - val_loss: 2.0352 - val_acc: 0.5271\n",
      "Epoch 20/100\n",
      "50000/50000 [==============================] - 10s 197us/step - loss: 0.4156 - acc: 0.8550 - val_loss: 2.1105 - val_acc: 0.5300\n",
      "Epoch 21/100\n",
      "50000/50000 [==============================] - 10s 199us/step - loss: 0.3966 - acc: 0.8609 - val_loss: 2.1943 - val_acc: 0.5321\n",
      "Epoch 22/100\n",
      "50000/50000 [==============================] - 10s 207us/step - loss: 0.3645 - acc: 0.8720 - val_loss: 2.3693 - val_acc: 0.5260\n",
      "Epoch 23/100\n",
      "50000/50000 [==============================] - 10s 199us/step - loss: 0.3408 - acc: 0.8809 - val_loss: 2.2892 - val_acc: 0.5304\n",
      "Epoch 24/100\n",
      "50000/50000 [==============================] - 10s 196us/step - loss: 0.3062 - acc: 0.8941 - val_loss: 2.4021 - val_acc: 0.5365\n",
      "Epoch 25/100\n",
      "50000/50000 [==============================] - 10s 199us/step - loss: 0.2934 - acc: 0.8980 - val_loss: 2.5072 - val_acc: 0.5308\n",
      "Epoch 26/100\n",
      "50000/50000 [==============================] - 10s 203us/step - loss: 0.2676 - acc: 0.9069 - val_loss: 2.6342 - val_acc: 0.5233\n",
      "Epoch 27/100\n",
      "50000/50000 [==============================] - 10s 198us/step - loss: 0.2727 - acc: 0.9057 - val_loss: 2.5852 - val_acc: 0.5292\n",
      "Epoch 28/100\n",
      "50000/50000 [==============================] - 10s 197us/step - loss: 0.2665 - acc: 0.9085 - val_loss: 2.6645 - val_acc: 0.5276\n",
      "Epoch 29/100\n",
      "50000/50000 [==============================] - 10s 199us/step - loss: 0.2330 - acc: 0.9210 - val_loss: 2.7829 - val_acc: 0.5230\n",
      "Epoch 30/100\n",
      "50000/50000 [==============================] - 10s 196us/step - loss: 0.2178 - acc: 0.9240 - val_loss: 2.7815 - val_acc: 0.5278\n",
      "Epoch 31/100\n",
      "50000/50000 [==============================] - 10s 196us/step - loss: 0.2347 - acc: 0.9198 - val_loss: 2.7937 - val_acc: 0.5244\n",
      "Epoch 32/100\n",
      "50000/50000 [==============================] - 10s 198us/step - loss: 0.2113 - acc: 0.9274 - val_loss: 2.8816 - val_acc: 0.5258\n",
      "Epoch 33/100\n",
      "50000/50000 [==============================] - 10s 195us/step - loss: 0.1983 - acc: 0.9315 - val_loss: 2.9493 - val_acc: 0.5311\n",
      "Epoch 34/100\n",
      "50000/50000 [==============================] - 10s 201us/step - loss: 0.1987 - acc: 0.9331 - val_loss: 2.9335 - val_acc: 0.5343\n",
      "Epoch 35/100\n",
      "50000/50000 [==============================] - 10s 203us/step - loss: 0.1847 - acc: 0.9378 - val_loss: 2.9407 - val_acc: 0.5328\n",
      "Epoch 36/100\n",
      "50000/50000 [==============================] - 10s 197us/step - loss: 0.1717 - acc: 0.9419 - val_loss: 3.1418 - val_acc: 0.5310\n",
      "Epoch 37/100\n",
      "50000/50000 [==============================] - 10s 194us/step - loss: 0.1781 - acc: 0.9389 - val_loss: 3.0065 - val_acc: 0.5296\n",
      "Epoch 38/100\n",
      "50000/50000 [==============================] - 10s 200us/step - loss: 0.1555 - acc: 0.9481 - val_loss: 3.1360 - val_acc: 0.5254\n",
      "Epoch 39/100\n",
      "50000/50000 [==============================] - 10s 198us/step - loss: 0.1667 - acc: 0.9430 - val_loss: 3.1292 - val_acc: 0.5187\n",
      "Epoch 40/100\n",
      "50000/50000 [==============================] - 10s 197us/step - loss: 0.1432 - acc: 0.9524 - val_loss: 3.2376 - val_acc: 0.5298\n",
      "Epoch 41/100\n",
      "50000/50000 [==============================] - 10s 198us/step - loss: 0.1449 - acc: 0.9519 - val_loss: 3.2803 - val_acc: 0.5309\n",
      "Epoch 42/100\n",
      "50000/50000 [==============================] - 10s 197us/step - loss: 0.1694 - acc: 0.9435 - val_loss: 3.2594 - val_acc: 0.5279\n",
      "Epoch 43/100\n",
      "50000/50000 [==============================] - 10s 196us/step - loss: 0.1442 - acc: 0.9510 - val_loss: 3.3559 - val_acc: 0.5258\n",
      "Epoch 44/100\n",
      "50000/50000 [==============================] - 10s 205us/step - loss: 0.1465 - acc: 0.9516 - val_loss: 3.3819 - val_acc: 0.5358\n",
      "Epoch 45/100\n",
      "50000/50000 [==============================] - 10s 197us/step - loss: 0.1286 - acc: 0.9572 - val_loss: 3.4347 - val_acc: 0.5269\n",
      "Epoch 46/100\n",
      "50000/50000 [==============================] - 10s 199us/step - loss: 0.1474 - acc: 0.9506 - val_loss: 3.3340 - val_acc: 0.5284\n",
      "Epoch 47/100\n",
      "50000/50000 [==============================] - 10s 201us/step - loss: 0.1094 - acc: 0.9626 - val_loss: 3.5154 - val_acc: 0.5294\n",
      "Epoch 48/100\n",
      "50000/50000 [==============================] - 10s 193us/step - loss: 0.1197 - acc: 0.9602 - val_loss: 3.4669 - val_acc: 0.5283\n",
      "Epoch 49/100\n",
      "50000/50000 [==============================] - 10s 202us/step - loss: 0.1239 - acc: 0.9573 - val_loss: 3.5181 - val_acc: 0.5278\n",
      "Epoch 50/100\n",
      "50000/50000 [==============================] - 10s 209us/step - loss: 0.1329 - acc: 0.9567 - val_loss: 3.4186 - val_acc: 0.5270\n",
      "Epoch 51/100\n",
      "50000/50000 [==============================] - 11s 210us/step - loss: 0.1130 - acc: 0.9627 - val_loss: 3.5008 - val_acc: 0.5335\n",
      "Epoch 52/100\n",
      "50000/50000 [==============================] - 9s 185us/step - loss: 0.0929 - acc: 0.9689 - val_loss: 3.7736 - val_acc: 0.5144\n",
      "Epoch 53/100\n",
      "50000/50000 [==============================] - 9s 183us/step - loss: 0.1396 - acc: 0.9545 - val_loss: 3.3599 - val_acc: 0.5268\n",
      "Epoch 54/100\n",
      "50000/50000 [==============================] - 12s 230us/step - loss: 0.1174 - acc: 0.9616 - val_loss: 3.5774 - val_acc: 0.5303 0.113\n",
      "Epoch 55/100\n",
      "50000/50000 [==============================] - 11s 212us/step - loss: 0.1115 - acc: 0.9638 - val_loss: 3.4131 - val_acc: 0.5283\n",
      "Epoch 56/100\n",
      "50000/50000 [==============================] - 9s 185us/step - loss: 0.0936 - acc: 0.9702 - val_loss: 3.6866 - val_acc: 0.5299\n",
      "Epoch 57/100\n",
      "50000/50000 [==============================] - 9s 184us/step - loss: 0.1084 - acc: 0.9646 - val_loss: 3.5289 - val_acc: 0.5193\n",
      "Epoch 58/100\n"
     ]
    },
    {
     "name": "stdout",
     "output_type": "stream",
     "text": [
      "50000/50000 [==============================] - 9s 185us/step - loss: 0.1303 - acc: 0.9574 - val_loss: 3.4758 - val_acc: 0.5308\n",
      "Epoch 59/100\n",
      "50000/50000 [==============================] - 9s 183us/step - loss: 0.1080 - acc: 0.9646 - val_loss: 3.6403 - val_acc: 0.5264\n",
      "Epoch 60/100\n",
      "50000/50000 [==============================] - 9s 186us/step - loss: 0.0805 - acc: 0.9732 - val_loss: 3.7434 - val_acc: 0.5217\n",
      "Epoch 61/100\n",
      "50000/50000 [==============================] - 9s 183us/step - loss: 0.1041 - acc: 0.9649 - val_loss: 3.6155 - val_acc: 0.5291\n",
      "Epoch 62/100\n",
      "50000/50000 [==============================] - 9s 183us/step - loss: 0.0888 - acc: 0.9707 - val_loss: 3.7250 - val_acc: 0.5323\n",
      "Epoch 63/100\n",
      "50000/50000 [==============================] - 9s 185us/step - loss: 0.0965 - acc: 0.9690 - val_loss: 3.7460 - val_acc: 0.5260\n",
      "Epoch 64/100\n",
      "50000/50000 [==============================] - 9s 183us/step - loss: 0.0996 - acc: 0.9671 - val_loss: 3.7235 - val_acc: 0.5391\n",
      "Epoch 65/100\n",
      "50000/50000 [==============================] - 9s 184us/step - loss: 0.1021 - acc: 0.9675 - val_loss: 3.6055 - val_acc: 0.5308\n",
      "Epoch 66/100\n",
      "50000/50000 [==============================] - 9s 183us/step - loss: 0.0811 - acc: 0.9731 - val_loss: 3.6530 - val_acc: 0.5321\n",
      "Epoch 67/100\n",
      "50000/50000 [==============================] - 9s 183us/step - loss: 0.0873 - acc: 0.9715 - val_loss: 3.7795 - val_acc: 0.5287\n",
      "Epoch 68/100\n",
      "50000/50000 [==============================] - 9s 182us/step - loss: 0.1110 - acc: 0.9635 - val_loss: 3.5952 - val_acc: 0.5278\n",
      "Epoch 69/100\n",
      "50000/50000 [==============================] - 9s 183us/step - loss: 0.0923 - acc: 0.9704 - val_loss: 3.6633 - val_acc: 0.5232\n",
      "Epoch 70/100\n",
      "50000/50000 [==============================] - 9s 184us/step - loss: 0.0794 - acc: 0.9737 - val_loss: 3.7148 - val_acc: 0.5236\n",
      "Epoch 71/100\n",
      "50000/50000 [==============================] - 9s 185us/step - loss: 0.0771 - acc: 0.9750 - val_loss: 3.7150 - val_acc: 0.5295\n",
      "Epoch 72/100\n",
      "50000/50000 [==============================] - 9s 183us/step - loss: 0.0973 - acc: 0.9680 - val_loss: 3.6509 - val_acc: 0.5192\n",
      "Epoch 73/100\n",
      "50000/50000 [==============================] - 9s 184us/step - loss: 0.0880 - acc: 0.9718 - val_loss: 3.7705 - val_acc: 0.5291\n",
      "Epoch 74/100\n",
      "50000/50000 [==============================] - 9s 184us/step - loss: 0.0687 - acc: 0.9766 - val_loss: 3.8449 - val_acc: 0.5286\n",
      "Epoch 75/100\n",
      "50000/50000 [==============================] - 9s 184us/step - loss: 0.0820 - acc: 0.9734 - val_loss: 3.8327 - val_acc: 0.5299\n",
      "Epoch 76/100\n",
      "50000/50000 [==============================] - 9s 183us/step - loss: 0.0900 - acc: 0.9707 - val_loss: 3.7201 - val_acc: 0.5261\n",
      "Epoch 77/100\n",
      "50000/50000 [==============================] - 9s 184us/step - loss: 0.1012 - acc: 0.9667 - val_loss: 3.6279 - val_acc: 0.5340\n",
      "Epoch 78/100\n",
      "50000/50000 [==============================] - 9s 184us/step - loss: 0.0793 - acc: 0.9738 - val_loss: 3.8422 - val_acc: 0.5299\n",
      "Epoch 79/100\n",
      "50000/50000 [==============================] - 9s 183us/step - loss: 0.0721 - acc: 0.9773 - val_loss: 3.8146 - val_acc: 0.5330\n",
      "Epoch 80/100\n",
      "50000/50000 [==============================] - 10s 190us/step - loss: 0.0606 - acc: 0.9807 - val_loss: 3.8301 - val_acc: 0.5304\n",
      "Epoch 81/100\n",
      "50000/50000 [==============================] - 10s 196us/step - loss: 0.0808 - acc: 0.9748 - val_loss: 3.9121 - val_acc: 0.5246\n",
      "Epoch 82/100\n",
      "50000/50000 [==============================] - 10s 190us/step - loss: 0.0783 - acc: 0.9746 - val_loss: 3.8578 - val_acc: 0.5257\n",
      "Epoch 83/100\n",
      "50000/50000 [==============================] - 10s 191us/step - loss: 0.0780 - acc: 0.9747 - val_loss: 3.7299 - val_acc: 0.5307\n",
      "Epoch 84/100\n",
      "50000/50000 [==============================] - 9s 186us/step - loss: 0.0920 - acc: 0.9699 - val_loss: 3.7929 - val_acc: 0.5338\n",
      "Epoch 85/100\n",
      "50000/50000 [==============================] - 9s 184us/step - loss: 0.0609 - acc: 0.9799 - val_loss: 3.8520 - val_acc: 0.5337\n",
      "Epoch 86/100\n",
      "50000/50000 [==============================] - 9s 186us/step - loss: 0.0536 - acc: 0.9835 - val_loss: 3.8995 - val_acc: 0.5298\n",
      "Epoch 87/100\n",
      "50000/50000 [==============================] - 9s 186us/step - loss: 0.0839 - acc: 0.9738 - val_loss: 3.8704 - val_acc: 0.5300\n",
      "Epoch 88/100\n",
      "50000/50000 [==============================] - 9s 185us/step - loss: 0.0662 - acc: 0.9788 - val_loss: 3.8474 - val_acc: 0.5308\n",
      "Epoch 89/100\n",
      "50000/50000 [==============================] - 9s 184us/step - loss: 0.0597 - acc: 0.9812 - val_loss: 4.0908 - val_acc: 0.5253\n",
      "Epoch 90/100\n",
      "50000/50000 [==============================] - 9s 186us/step - loss: 0.0996 - acc: 0.9684 - val_loss: 3.7159 - val_acc: 0.5260\n",
      "Epoch 91/100\n",
      "50000/50000 [==============================] - 10s 191us/step - loss: 0.0667 - acc: 0.9785 - val_loss: 3.9234 - val_acc: 0.5266\n",
      "Epoch 92/100\n",
      "50000/50000 [==============================] - 9s 184us/step - loss: 0.0610 - acc: 0.9803 - val_loss: 3.9172 - val_acc: 0.5341\n",
      "Epoch 93/100\n",
      "50000/50000 [==============================] - 9s 186us/step - loss: 0.0661 - acc: 0.9785 - val_loss: 3.9571 - val_acc: 0.5310\n",
      "Epoch 94/100\n",
      "50000/50000 [==============================] - 9s 188us/step - loss: 0.0680 - acc: 0.9776 - val_loss: 3.9376 - val_acc: 0.5264\n",
      "Epoch 95/100\n",
      "50000/50000 [==============================] - 9s 185us/step - loss: 0.0642 - acc: 0.9788 - val_loss: 4.0360 - val_acc: 0.5289\n",
      "Epoch 96/100\n",
      "50000/50000 [==============================] - 9s 183us/step - loss: 0.0676 - acc: 0.9773 - val_loss: 3.7940 - val_acc: 0.5342\n",
      "Epoch 97/100\n",
      "50000/50000 [==============================] - 9s 186us/step - loss: 0.0685 - acc: 0.9790 - val_loss: 3.9199 - val_acc: 0.5294\n",
      "Epoch 98/100\n",
      "50000/50000 [==============================] - 9s 183us/step - loss: 0.0566 - acc: 0.9816 - val_loss: 3.9255 - val_acc: 0.5296\n",
      "Epoch 99/100\n",
      "50000/50000 [==============================] - 10s 190us/step - loss: 0.0632 - acc: 0.9795 - val_loss: 3.8986 - val_acc: 0.5218\n",
      "Epoch 100/100\n",
      "50000/50000 [==============================] - 9s 185us/step - loss: 0.0766 - acc: 0.9753 - val_loss: 3.8663 - val_acc: 0.5285\n"
     ]
    },
    {
     "data": {
      "text/plain": [
       "<keras.callbacks.History at 0x1f099e5f710>"
      ]
     },
     "execution_count": 14,
     "metadata": {},
     "output_type": "execute_result"
    }
   ],
   "source": [
    "model.fit(x_train, y_train, \n",
    "          epochs=EPOCHS, \n",
    "          batch_size=BATCH_SIZE, \n",
    "          validation_data=(x_test, y_test), \n",
    "          shuffle=True)"
   ]
  },
  {
   "cell_type": "code",
   "execution_count": 15,
   "metadata": {},
   "outputs": [
    {
     "data": {
      "image/png": "[encoded data removed]",
      "text/plain": [
       "<matplotlib.figure.Figure at 0x1f0a5693358>"
      ]
     },
     "metadata": {
      "needs_background": "light"
     },
     "output_type": "display_data"
    },
    {
     "data": {
      "image/png": "[encoded data removed]",
      "text/plain": [
       "<matplotlib.figure.Figure at 0x1f09c958d30>"
      ]
     },
     "metadata": {
      "needs_background": "light"
     },
     "output_type": "display_data"
    }
   ],
   "source": [
    "import matplotlib.pyplot as plt\n",
    "%matplotlib inline\n",
    "\n",
    "train_loss = model.history.history[\"loss\"]\n",
    "valid_loss = model.history.history[\"val_loss\"]\n",
    "\n",
    "train_acc = model.history.history[\"acc\"]\n",
    "valid_acc = model.history.history[\"val_acc\"]\n",
    "\n",
    "plt.plot(range(len(train_loss)), train_loss, label=\"train loss\")\n",
    "plt.plot(range(len(valid_loss)), valid_loss, label=\"valid loss\")\n",
    "plt.legend()\n",
    "plt.title(\"Loss\")\n",
    "plt.show()\n",
    "\n",
    "plt.plot(range(len(train_acc)), train_acc, label=\"train accuracy\")\n",
    "plt.plot(range(len(valid_acc)), valid_acc, label=\"valid accuracy\")\n",
    "plt.legend()\n",
    "plt.title(\"Accuracy\")\n",
    "plt.show()"
   ]
  },
  {
   "cell_type": "code",
   "execution_count": null,
   "metadata": {},
   "outputs": [],
   "source": []
  }
 ],
 "metadata": {
  "kernelspec": {
   "display_name": "Python 3",
   "language": "python",
   "name": "python3"
  },
  "language_info": {
   "codemirror_mode": {
    "name": "ipython",
    "version": 3
   },
   "file_extension": ".py",
   "mimetype": "text/x-python",
   "name": "python",
   "nbconvert_exporter": "python",
   "pygments_lexer": "ipython3",
   "version": "3.6.9"
  }
 },
 "nbformat": 4,
 "nbformat_minor": 2
}
