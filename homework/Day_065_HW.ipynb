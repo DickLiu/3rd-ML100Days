{
 "cells": [
  {
   "cell_type": "markdown",
   "metadata": {},
   "source": [
    "# 作業\n",
    "* 選擇分類資料集(右下)-螺旋雙臂 - 交錯六群，限定特徵只能使用前兩個，隱藏層 2 層滿 (共 8 * 2 =16 個神經元)，  \n",
    "  遞迴次數只允許跑到500次，但可以自由調整 批次大小、學習速率、啟動函數、正規化選項與參數\n",
    "* 在上述限制下，挑戰看看測試誤差 (Test Loss) 最低能到多少? 請回答你的上述幾項參數與 Test Loss 數"
   ]
  },
  {
   "cell_type": "code",
   "execution_count": null,
   "metadata": {
    "collapsed": true
   },
   "outputs": [],
   "source": [
    "\"\"\"\n",
    "001，預設值:\n",
    "批次大小:10\n",
    "學習速率:0.03\n",
    "啟動函數: Tanh\n",
    "正規化選項與參數: None\n",
    "test_loss: 0.248\n",
    "\n",
    "002:\n",
    "批次大小:5\n",
    "學習速率:0.03\n",
    "啟動函數: Tanh\n",
    "正規化選項與參數: None\n",
    "test_loss: 0.141\n",
    "\n",
    "003:\n",
    "批次大小:3\n",
    "學習速率:0.03\n",
    "啟動函數: Tanh\n",
    "正規化選項與參數: None\n",
    "test_loss: 0.067\n",
    "\n",
    "004:\n",
    "批次大小:3\n",
    "學習速率:0.01\n",
    "啟動函數: Tanh\n",
    "正規化選項與參數: None\n",
    "test_loss: 0.213\n",
    "\n",
    "005:\n",
    "批次大小:3\n",
    "學習速率:0.003\n",
    "啟動函數: Tanh\n",
    "正規化選項與參數: None\n",
    "test_loss: 0.44\n",
    "\n",
    "006:\n",
    "批次大小:3\n",
    "學習速率:0.1\n",
    "啟動函數: Tanh\n",
    "正規化選項與參數: None\n",
    "test_loss: 0.063\n",
    "\n",
    "007:\n",
    "批次大小:3\n",
    "學習速率:0.3\n",
    "啟動函數: Tanh\n",
    "正規化選項與參數: None\n",
    "test_loss: 0.388\n",
    "\n",
    "008:\n",
    "批次大小:3\n",
    "學習速率:0.1\n",
    "啟動函數: Sigmoid\n",
    "正規化選項與參數: None\n",
    "test_loss: 0.447\n",
    "\n",
    "009:\n",
    "批次大小:3\n",
    "學習速率:0.1\n",
    "啟動函數: ReLu\n",
    "正規化選項與參數: None\n",
    "test_loss: 0.203\n",
    "\n",
    "010:\n",
    "批次大小:3\n",
    "學習速率:0.1\n",
    "啟動函數: Tanh\n",
    "正規化選項與參數: L2, 0.001\n",
    "test_loss: 0.124\n",
    "\n",
    "011:\n",
    "批次大小:3\n",
    "學習速率:0.03\n",
    "啟動函數: Tanh\n",
    "正規化選項與參數: L2, 0.001\n",
    "test_loss: 0.158\n",
    "\"\"\""
   ]
  },
  {
   "cell_type": "markdown",
   "metadata": {
    "collapsed": true
   },
   "source": []
  }
 ],
 "metadata": {
  "kernelspec": {
   "display_name": "Python 3",
   "language": "python",
   "name": "python3"
  },
  "language_info": {
   "codemirror_mode": {
    "name": "ipython",
    "version": 3
   },
   "file_extension": ".py",
   "mimetype": "text/x-python",
   "name": "python",
   "nbconvert_exporter": "python",
   "pygments_lexer": "ipython3",
   "version": "3.7.1"
  }
 },
 "nbformat": 4,
 "nbformat_minor": 2
}
