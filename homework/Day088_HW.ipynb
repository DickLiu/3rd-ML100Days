{
  "nbformat": 4,
  "nbformat_minor": 0,
  "metadata": {
    "kernelspec": {
      "name": "python3",
      "display_name": "Python 3"
    },
    "language_info": {
      "codemirror_mode": {
        "name": "ipython",
        "version": 3
      },
      "file_extension": ".py",
      "mimetype": "text/x-python",
      "name": "python",
      "nbconvert_exporter": "python",
      "pygments_lexer": "ipython3",
      "version": "3.6.9"
    },
    "colab": {
      "name": "Day088_HW.ipynb",
      "provenance": [],
      "collapsed_sections": []
    },
    "accelerator": "GPU"
  },
  "cells": [
    {
      "cell_type": "markdown",
      "metadata": {
        "id": "vOJ5wx1lknE5",
        "colab_type": "text"
      },
      "source": [
        "## Work\n",
        "1. 請嘗試寫一個 callback 用來記錄各類別在訓練過程中，對驗證集的 True Positive 與 True Negative"
      ]
    },
    {
      "cell_type": "code",
      "metadata": {
        "id": "lq4MDOZZknE8",
        "colab_type": "code",
        "colab": {
          "base_uri": "https://localhost:8080/",
          "height": 81
        },
        "outputId": "d64f4ada-6003-4222-875d-72a1564b4cec"
      },
      "source": [
        "import os\n",
        "import keras\n",
        "\n",
        "# Disable GPU\n",
        "# os.environ[\"CUDA_VISIBLE_DEVICES\"] = \"\""
      ],
      "execution_count": 1,
      "outputs": [
        {
          "output_type": "stream",
          "text": [
            "Using TensorFlow backend.\n"
          ],
          "name": "stderr"
        },
        {
          "output_type": "display_data",
          "data": {
            "text/html": [
              "<p style=\"color: red;\">\n",
              "The default version of TensorFlow in Colab will soon switch to TensorFlow 2.x.<br>\n",
              "We recommend you <a href=\"https://www.tensorflow.org/guide/migrate\" target=\"_blank\">upgrade</a> now \n",
              "or ensure your notebook will continue to use TensorFlow 1.x via the <code>%tensorflow_version 1.x</code> magic:\n",
              "<a href=\"https://colab.research.google.com/notebooks/tensorflow_version.ipynb\" target=\"_blank\">more info</a>.</p>\n"
            ],
            "text/plain": [
              "<IPython.core.display.HTML object>"
            ]
          },
          "metadata": {
            "tags": []
          }
        }
      ]
    },
    {
      "cell_type": "code",
      "metadata": {
        "id": "9uR5Ft6pknFC",
        "colab_type": "code",
        "colab": {
          "base_uri": "https://localhost:8080/",
          "height": 52
        },
        "outputId": "f23e831a-3c38-4af2-ffe7-012e34bb68c3"
      },
      "source": [
        "train, test = keras.datasets.cifar10.load_data()"
      ],
      "execution_count": 2,
      "outputs": [
        {
          "output_type": "stream",
          "text": [
            "Downloading data from https://www.cs.toronto.edu/~kriz/cifar-10-python.tar.gz\n",
            "170500096/170498071 [==============================] - 6s 0us/step\n"
          ],
          "name": "stdout"
        }
      ]
    },
    {
      "cell_type": "code",
      "metadata": {
        "id": "u_KKLRTQknFJ",
        "colab_type": "code",
        "colab": {}
      },
      "source": [
        "## 資料前處理\n",
        "def preproc_x(x, flatten=True):\n",
        "    x = x / 255.\n",
        "    if flatten:\n",
        "        x = x.reshape((len(x), -1))\n",
        "    return x\n",
        "\n",
        "def preproc_y(y, num_classes=10):\n",
        "    if y.shape[-1] == 1:\n",
        "        y = keras.utils.to_categorical(y, num_classes)\n",
        "    return y    "
      ],
      "execution_count": 0,
      "outputs": []
    },
    {
      "cell_type": "code",
      "metadata": {
        "id": "J9DWVlZ4knFL",
        "colab_type": "code",
        "colab": {}
      },
      "source": [
        "x_train, y_train = train\n",
        "x_test, y_test = test\n",
        "\n",
        "# Preproc the inputs\n",
        "x_train = preproc_x(x_train)\n",
        "x_test = preproc_x(x_test)\n",
        "\n",
        "# Preprc the outputs\n",
        "y_train = preproc_y(y_train)\n",
        "y_test = preproc_y(y_test)"
      ],
      "execution_count": 0,
      "outputs": []
    },
    {
      "cell_type": "code",
      "metadata": {
        "id": "zp0z5NmuknFP",
        "colab_type": "code",
        "colab": {}
      },
      "source": [
        "from keras.layers import BatchNormalization\n",
        "def build_mlp(input_shape, output_units=10, num_neurons=[256, 256, 256]):\n",
        "    \"\"\"Code Here\n",
        "    建立你的神經網路\n",
        "    \"\"\"\n",
        "    input_layer = keras.layers.Input(input_shape)\n",
        "    \n",
        "    for i, n_units in enumerate(num_neurons):\n",
        "        if i == 0:\n",
        "            x = keras.layers.Dense(units=n_units, \n",
        "                                   activation=\"relu\", \n",
        "                                   name=\"hidden_layer\"+str(i+1))(input_layer)\n",
        "            x = BatchNormalization()(x)\n",
        "        else:\n",
        "            x = keras.layers.Dense(units=n_units, \n",
        "                                   activation=\"relu\", \n",
        "                                   name=\"hidden_layer\"+str(i+1))(x)\n",
        "            x = BatchNormalization()(x)\n",
        "    \n",
        "    out = keras.layers.Dense(units=output_units, activation=\"softmax\", name=\"output\")(x)\n",
        "    \n",
        "    model = keras.models.Model(inputs=[input_layer], outputs=[out])\n",
        "    return model"
      ],
      "execution_count": 0,
      "outputs": []
    },
    {
      "cell_type": "code",
      "metadata": {
        "id": "mwy7UqXdknFT",
        "colab_type": "code",
        "colab": {}
      },
      "source": [
        "## 超參數設定\n",
        "LEARNING_RATE = 1e-3\n",
        "EPOCHS = 50\n",
        "BATCH_SIZE = 256\n",
        "MOMENTUM = 0.95"
      ],
      "execution_count": 0,
      "outputs": []
    },
    {
      "cell_type": "code",
      "metadata": {
        "id": "EzpFa8y7knFV",
        "colab_type": "code",
        "colab": {}
      },
      "source": [
        "# 載入 Callbacks\n",
        "from keras.callbacks import Callback\n",
        "\n",
        "# Record_fp_tp\n",
        "class Record_tp_tn(Callback):\n",
        "    \"\"\"Code Here\n",
        "    撰寫一個紀錄 ture positive 與 true negative 數量的 callbacks    \n",
        "    \"\"\"\n",
        "    def on_train_begin(self, epoch, logs = {}):\n",
        "      logs = logs or {}\n",
        "      record_items = [\"val_auc\", \"val_f1sc\", \"val_fp\", \"val_fn\", \"val_tp\", \"val_tn\"]\n",
        "      for i in record_items:\n",
        "          if i not in self.params['metrics']:\n",
        "              self.params['metrics'].append(i)\n",
        "    \n",
        "    def on_epoch_end(self, epoch, logs = {}, thres=0.5):\n",
        "        logs = logs or {}\n",
        "        y_true = self.validation_data[1].argmax(axis = 1)\n",
        "        y_pred = self.model.predict(self.validation_data[0])\n",
        "        y_pred = (y_pred[:, 1] >= thres) * 1        \n",
        "        #logs[\"val_f1sc\"] = f1_score(y_true = y_true, y_pred = y_pred, average=\"weighted\")\n",
        "        TP = 0\n",
        "        FP = 0\n",
        "        TN = 0\n",
        "        FN = 0\n",
        "\n",
        "        for i in range(len(y_pred)): \n",
        "            if y_true[i]==y_pred[i]==1:\n",
        "              TP += 1\n",
        "            if y_pred[i]==1 and y_true[i]!=y_pred[i]:\n",
        "              FP += 1\n",
        "            if y_true[i]==y_pred[i]==0:\n",
        "              TN += 1\n",
        "            if y_pred[i]==0 and y_true[i]!=y_pred[i]:\n",
        "              FN += 1\n",
        "\n",
        "        logs[\"val_tp\"] = TP\n",
        "        logs[\"val_tn\"] = TN\n",
        "        logs[\"val_fp\"] = FP\n",
        "        logs[\"val_fn\"] = FN\n",
        "    \n",
        "        \n",
        "rec_tptn = Record_tp_tn()"
      ],
      "execution_count": 0,
      "outputs": []
    },
    {
      "cell_type": "code",
      "metadata": {
        "scrolled": true,
        "id": "S11Wey8oknFY",
        "colab_type": "code",
        "colab": {
          "base_uri": "https://localhost:8080/",
          "height": 1000
        },
        "outputId": "2c520910-4484-422b-cb23-d88c83f5a2bc"
      },
      "source": [
        "model = build_mlp(input_shape=x_train.shape[1:])\n",
        "model.summary()\n",
        "optimizer = keras.optimizers.SGD(lr=LEARNING_RATE, nesterov=True, momentum=MOMENTUM)\n",
        "model.compile(loss=\"categorical_crossentropy\", metrics=[\"accuracy\"], optimizer=optimizer)\n",
        "\n",
        "\"\"\"Code Here\n",
        "將 callbacks 放入模型訓練流程中\n",
        "\"\"\"\n",
        "model.fit(x_train, y_train, \n",
        "          epochs=EPOCHS, \n",
        "          batch_size=BATCH_SIZE, \n",
        "          validation_data=(x_test, y_test), \n",
        "          shuffle=True,\n",
        "          callbacks=[rec_tptn]\n",
        "         )\n",
        "\n",
        "# Collect results\n",
        "train_loss = model.history.history[\"loss\"]\n",
        "valid_loss = model.history.history[\"val_loss\"]\n",
        "train_acc = model.history.history[\"acc\"]\n",
        "valid_acc = model.history.history[\"val_acc\"]\n",
        "\n",
        "\"\"\"Code Here\n",
        "將 tp/tn 從訓練完的模型中取出\n",
        "\"\"\"\n",
        "tp = model.history.history['val_tp']\n",
        "tn = model.history.history['val_tn']\n",
        "fp = model.history.history['val_fp']\n",
        "fn = model.history.history['val_fn']"
      ],
      "execution_count": 10,
      "outputs": [
        {
          "output_type": "stream",
          "text": [
            "Model: \"model_2\"\n",
            "_________________________________________________________________\n",
            "Layer (type)                 Output Shape              Param #   \n",
            "=================================================================\n",
            "input_2 (InputLayer)         (None, 3072)              0         \n",
            "_________________________________________________________________\n",
            "hidden_layer1 (Dense)        (None, 256)               786688    \n",
            "_________________________________________________________________\n",
            "batch_normalization_4 (Batch (None, 256)               1024      \n",
            "_________________________________________________________________\n",
            "hidden_layer2 (Dense)        (None, 256)               65792     \n",
            "_________________________________________________________________\n",
            "batch_normalization_5 (Batch (None, 256)               1024      \n",
            "_________________________________________________________________\n",
            "hidden_layer3 (Dense)        (None, 256)               65792     \n",
            "_________________________________________________________________\n",
            "batch_normalization_6 (Batch (None, 256)               1024      \n",
            "_________________________________________________________________\n",
            "output (Dense)               (None, 10)                2570      \n",
            "=================================================================\n",
            "Total params: 923,914\n",
            "Trainable params: 922,378\n",
            "Non-trainable params: 1,536\n",
            "_________________________________________________________________\n",
            "WARNING:tensorflow:From /usr/local/lib/python3.6/dist-packages/tensorflow_core/python/ops/math_grad.py:1424: where (from tensorflow.python.ops.array_ops) is deprecated and will be removed in a future version.\n",
            "Instructions for updating:\n",
            "Use tf.where in 2.0, which has the same broadcast rule as np.where\n",
            "WARNING:tensorflow:From /usr/local/lib/python3.6/dist-packages/keras/backend/tensorflow_backend.py:1033: The name tf.assign_add is deprecated. Please use tf.compat.v1.assign_add instead.\n",
            "\n",
            "WARNING:tensorflow:From /usr/local/lib/python3.6/dist-packages/keras/backend/tensorflow_backend.py:1020: The name tf.assign is deprecated. Please use tf.compat.v1.assign instead.\n",
            "\n",
            "WARNING:tensorflow:From /usr/local/lib/python3.6/dist-packages/keras/backend/tensorflow_backend.py:3005: The name tf.Session is deprecated. Please use tf.compat.v1.Session instead.\n",
            "\n",
            "Train on 50000 samples, validate on 10000 samples\n",
            "Epoch 1/50\n",
            "WARNING:tensorflow:From /usr/local/lib/python3.6/dist-packages/keras/backend/tensorflow_backend.py:190: The name tf.get_default_session is deprecated. Please use tf.compat.v1.get_default_session instead.\n",
            "\n",
            "WARNING:tensorflow:From /usr/local/lib/python3.6/dist-packages/keras/backend/tensorflow_backend.py:197: The name tf.ConfigProto is deprecated. Please use tf.compat.v1.ConfigProto instead.\n",
            "\n",
            "WARNING:tensorflow:From /usr/local/lib/python3.6/dist-packages/keras/backend/tensorflow_backend.py:207: The name tf.global_variables is deprecated. Please use tf.compat.v1.global_variables instead.\n",
            "\n",
            "WARNING:tensorflow:From /usr/local/lib/python3.6/dist-packages/keras/backend/tensorflow_backend.py:216: The name tf.is_variable_initialized is deprecated. Please use tf.compat.v1.is_variable_initialized instead.\n",
            "\n",
            "WARNING:tensorflow:From /usr/local/lib/python3.6/dist-packages/keras/backend/tensorflow_backend.py:223: The name tf.variables_initializer is deprecated. Please use tf.compat.v1.variables_initializer instead.\n",
            "\n",
            "50000/50000 [==============================] - 8s 154us/step - loss: 1.8742 - acc: 0.3550 - val_loss: 1.7589 - val_acc: 0.3836\n",
            "Epoch 2/50\n",
            "50000/50000 [==============================] - 3s 56us/step - loss: 1.5431 - acc: 0.4569 - val_loss: 1.5863 - val_acc: 0.4395\n",
            "Epoch 3/50\n",
            "50000/50000 [==============================] - 3s 57us/step - loss: 1.4416 - acc: 0.4918 - val_loss: 1.5559 - val_acc: 0.4508\n",
            "Epoch 4/50\n",
            "50000/50000 [==============================] - 3s 56us/step - loss: 1.3719 - acc: 0.5171 - val_loss: 1.5530 - val_acc: 0.4557\n",
            "Epoch 5/50\n",
            "50000/50000 [==============================] - 3s 56us/step - loss: 1.3156 - acc: 0.5379 - val_loss: 1.4707 - val_acc: 0.4769\n",
            "Epoch 6/50\n",
            "50000/50000 [==============================] - 3s 56us/step - loss: 1.2667 - acc: 0.5547 - val_loss: 1.5001 - val_acc: 0.4794\n",
            "Epoch 7/50\n",
            "50000/50000 [==============================] - 3s 56us/step - loss: 1.2241 - acc: 0.5697 - val_loss: 1.4778 - val_acc: 0.4804\n",
            "Epoch 8/50\n",
            "50000/50000 [==============================] - 3s 56us/step - loss: 1.1828 - acc: 0.5859 - val_loss: 1.4740 - val_acc: 0.4856\n",
            "Epoch 9/50\n",
            "50000/50000 [==============================] - 3s 56us/step - loss: 1.1493 - acc: 0.5967 - val_loss: 1.4653 - val_acc: 0.4845\n",
            "Epoch 10/50\n",
            "50000/50000 [==============================] - 3s 56us/step - loss: 1.1104 - acc: 0.6139 - val_loss: 1.4662 - val_acc: 0.4915\n",
            "Epoch 11/50\n",
            "50000/50000 [==============================] - 3s 57us/step - loss: 1.0801 - acc: 0.6239 - val_loss: 1.5053 - val_acc: 0.4720\n",
            "Epoch 12/50\n",
            "50000/50000 [==============================] - 3s 57us/step - loss: 1.0435 - acc: 0.6375 - val_loss: 1.4890 - val_acc: 0.4882\n",
            "Epoch 13/50\n",
            "50000/50000 [==============================] - 3s 57us/step - loss: 1.0148 - acc: 0.6487 - val_loss: 1.5954 - val_acc: 0.4673\n",
            "Epoch 14/50\n",
            "50000/50000 [==============================] - 3s 57us/step - loss: 0.9794 - acc: 0.6606 - val_loss: 1.5022 - val_acc: 0.4801\n",
            "Epoch 15/50\n",
            "50000/50000 [==============================] - 3s 58us/step - loss: 0.9537 - acc: 0.6704 - val_loss: 1.4990 - val_acc: 0.4902\n",
            "Epoch 16/50\n",
            "50000/50000 [==============================] - 3s 58us/step - loss: 0.9222 - acc: 0.6814 - val_loss: 1.5419 - val_acc: 0.4792\n",
            "Epoch 17/50\n",
            "50000/50000 [==============================] - 3s 57us/step - loss: 0.8949 - acc: 0.6921 - val_loss: 1.4936 - val_acc: 0.4999\n",
            "Epoch 18/50\n",
            "50000/50000 [==============================] - 3s 57us/step - loss: 0.8648 - acc: 0.7028 - val_loss: 1.5577 - val_acc: 0.4827\n",
            "Epoch 19/50\n",
            "50000/50000 [==============================] - 3s 57us/step - loss: 0.8374 - acc: 0.7151 - val_loss: 1.6024 - val_acc: 0.4841\n",
            "Epoch 20/50\n",
            "50000/50000 [==============================] - 3s 57us/step - loss: 0.8080 - acc: 0.7251 - val_loss: 1.6157 - val_acc: 0.4830\n",
            "Epoch 21/50\n",
            "50000/50000 [==============================] - 3s 55us/step - loss: 0.7886 - acc: 0.7302 - val_loss: 1.5768 - val_acc: 0.4798\n",
            "Epoch 22/50\n",
            "50000/50000 [==============================] - 3s 57us/step - loss: 0.7608 - acc: 0.7408 - val_loss: 1.5848 - val_acc: 0.4861\n",
            "Epoch 23/50\n",
            "50000/50000 [==============================] - 3s 56us/step - loss: 0.7364 - acc: 0.7508 - val_loss: 1.5928 - val_acc: 0.4888\n",
            "Epoch 24/50\n",
            "50000/50000 [==============================] - 3s 57us/step - loss: 0.7104 - acc: 0.7605 - val_loss: 1.6893 - val_acc: 0.4615\n",
            "Epoch 25/50\n",
            "50000/50000 [==============================] - 3s 56us/step - loss: 0.6858 - acc: 0.7712 - val_loss: 1.5930 - val_acc: 0.4923\n",
            "Epoch 26/50\n",
            "50000/50000 [==============================] - 3s 56us/step - loss: 0.6605 - acc: 0.7788 - val_loss: 1.7074 - val_acc: 0.4789\n",
            "Epoch 27/50\n",
            "50000/50000 [==============================] - 3s 57us/step - loss: 0.6354 - acc: 0.7884 - val_loss: 1.6776 - val_acc: 0.4846\n",
            "Epoch 28/50\n",
            "50000/50000 [==============================] - 3s 57us/step - loss: 0.6139 - acc: 0.7965 - val_loss: 1.7896 - val_acc: 0.4674\n",
            "Epoch 29/50\n",
            "50000/50000 [==============================] - 3s 57us/step - loss: 0.5906 - acc: 0.8043 - val_loss: 1.7066 - val_acc: 0.4806\n",
            "Epoch 30/50\n",
            "50000/50000 [==============================] - 3s 56us/step - loss: 0.5608 - acc: 0.8159 - val_loss: 1.7559 - val_acc: 0.4787\n",
            "Epoch 31/50\n",
            "50000/50000 [==============================] - 3s 56us/step - loss: 0.5475 - acc: 0.8200 - val_loss: 1.7162 - val_acc: 0.4835\n",
            "Epoch 32/50\n",
            "50000/50000 [==============================] - 3s 57us/step - loss: 0.5245 - acc: 0.8295 - val_loss: 1.7699 - val_acc: 0.4823\n",
            "Epoch 33/50\n",
            "50000/50000 [==============================] - 3s 57us/step - loss: 0.5049 - acc: 0.8367 - val_loss: 1.8990 - val_acc: 0.4643\n",
            "Epoch 34/50\n",
            "50000/50000 [==============================] - 3s 57us/step - loss: 0.4872 - acc: 0.8421 - val_loss: 1.8033 - val_acc: 0.4840\n",
            "Epoch 35/50\n",
            "50000/50000 [==============================] - 3s 58us/step - loss: 0.4642 - acc: 0.8521 - val_loss: 1.8595 - val_acc: 0.4744\n",
            "Epoch 36/50\n",
            "50000/50000 [==============================] - 3s 57us/step - loss: 0.4412 - acc: 0.8592 - val_loss: 1.8911 - val_acc: 0.4781\n",
            "Epoch 37/50\n",
            "50000/50000 [==============================] - 3s 57us/step - loss: 0.4309 - acc: 0.8618 - val_loss: 1.8806 - val_acc: 0.4879\n",
            "Epoch 38/50\n",
            "50000/50000 [==============================] - 3s 56us/step - loss: 0.4094 - acc: 0.8704 - val_loss: 2.0237 - val_acc: 0.4674\n",
            "Epoch 39/50\n",
            "50000/50000 [==============================] - 3s 57us/step - loss: 0.3883 - acc: 0.8796 - val_loss: 1.9245 - val_acc: 0.4853\n",
            "Epoch 40/50\n",
            "50000/50000 [==============================] - 3s 57us/step - loss: 0.3741 - acc: 0.8825 - val_loss: 1.9846 - val_acc: 0.4710\n",
            "Epoch 41/50\n",
            "50000/50000 [==============================] - 3s 57us/step - loss: 0.3532 - acc: 0.8926 - val_loss: 2.0103 - val_acc: 0.4826\n",
            "Epoch 42/50\n",
            "50000/50000 [==============================] - 3s 58us/step - loss: 0.3451 - acc: 0.8949 - val_loss: 2.0274 - val_acc: 0.4812\n",
            "Epoch 43/50\n",
            "50000/50000 [==============================] - 3s 58us/step - loss: 0.3278 - acc: 0.9007 - val_loss: 2.1030 - val_acc: 0.4628\n",
            "Epoch 44/50\n",
            "50000/50000 [==============================] - 3s 61us/step - loss: 0.3126 - acc: 0.9065 - val_loss: 2.1426 - val_acc: 0.4656\n",
            "Epoch 45/50\n",
            "50000/50000 [==============================] - 3s 60us/step - loss: 0.2979 - acc: 0.9128 - val_loss: 2.1122 - val_acc: 0.4708\n",
            "Epoch 46/50\n",
            "50000/50000 [==============================] - 3s 58us/step - loss: 0.2844 - acc: 0.9170 - val_loss: 2.1899 - val_acc: 0.4706\n",
            "Epoch 47/50\n",
            "50000/50000 [==============================] - 3s 56us/step - loss: 0.2708 - acc: 0.9218 - val_loss: 2.2545 - val_acc: 0.4660\n",
            "Epoch 48/50\n",
            "50000/50000 [==============================] - 3s 57us/step - loss: 0.2611 - acc: 0.9242 - val_loss: 2.1681 - val_acc: 0.4695\n",
            "Epoch 49/50\n",
            "50000/50000 [==============================] - 3s 57us/step - loss: 0.2549 - acc: 0.9273 - val_loss: 2.1685 - val_acc: 0.4813\n",
            "Epoch 50/50\n",
            "50000/50000 [==============================] - 3s 56us/step - loss: 0.2385 - acc: 0.9326 - val_loss: 2.2586 - val_acc: 0.4825\n"
          ],
          "name": "stdout"
        }
      ]
    },
    {
      "cell_type": "code",
      "metadata": {
        "id": "rioiZElYknFa",
        "colab_type": "code",
        "colab": {
          "base_uri": "https://localhost:8080/",
          "height": 809
        },
        "outputId": "ccb5cbc5-60c2-499d-d8ff-e3c45de88b48"
      },
      "source": [
        "import matplotlib.pyplot as plt\n",
        "%matplotlib inline\n",
        "\n",
        "plt.plot(range(len(train_loss)), train_loss, label=\"train loss\")\n",
        "plt.plot(range(len(valid_loss)), valid_loss, label=\"valid loss\")\n",
        "plt.legend()\n",
        "plt.title(\"Loss\")\n",
        "plt.show()\n",
        "\n",
        "plt.plot(range(len(train_acc)), train_acc, label=\"train accuracy\")\n",
        "plt.plot(range(len(valid_acc)), valid_acc, label=\"valid accuracy\")\n",
        "plt.legend()\n",
        "plt.title(\"Accuracy\")\n",
        "plt.show()\n",
        "\n",
        "plt.plot(range(len(tp)), tp, label=\"true positive\")\n",
        "plt.plot(range(len(tn)), tn, label=\"true negative\")\n",
        "plt.plot(range(len(fp)), fp, label=\"false positvie\")\n",
        "plt.plot(range(len(fn)), fn, label=\"false negative\")\n",
        "plt.legend()\n",
        "plt.title(\"tp/tn/fp/fn\")\n",
        "plt.show()\n"
      ],
      "execution_count": 11,
      "outputs": [
        {
          "output_type": "display_data",
          "data": {
            "image/png": "[encoded data removed]",
            "text/plain": [
              "<Figure size 432x288 with 1 Axes>"
            ]
          },
          "metadata": {
            "tags": []
          }
        },
        {
          "output_type": "display_data",
          "data": {
            "image/png": "[encoded data removed]",
            "text/plain": [
              "<Figure size 432x288 with 1 Axes>"
            ]
          },
          "metadata": {
            "tags": []
          }
        },
        {
          "output_type": "display_data",
          "data": {
            "image/png": "[encoded data removed]",
            "text/plain": [
              "<Figure size 432x288 with 1 Axes>"
            ]
          },
          "metadata": {
            "tags": []
          }
        }
      ]
    },
    {
      "cell_type": "code",
      "metadata": {
        "id": "-weA3uGgmaDx",
        "colab_type": "code",
        "colab": {}
      },
      "source": [
        ""
      ],
      "execution_count": 0,
      "outputs": []
    }
  ]
}