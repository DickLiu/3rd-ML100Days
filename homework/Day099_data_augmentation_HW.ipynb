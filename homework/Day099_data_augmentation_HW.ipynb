{
  "nbformat": 4,
  "nbformat_minor": 0,
  "metadata": {
    "kernelspec": {
      "name": "python3",
      "display_name": "Python 3"
    },
    "language_info": {
      "codemirror_mode": {
        "name": "ipython",
        "version": 3
      },
      "file_extension": ".py",
      "mimetype": "text/x-python",
      "name": "python",
      "nbconvert_exporter": "python",
      "pygments_lexer": "ipython3",
      "version": "3.6.2"
    },
    "colab": {
      "name": "Day099_data_augmentation_HW.ipynb",
      "provenance": [],
      "collapsed_sections": []
    },
    "accelerator": "GPU"
  },
  "cells": [
    {
      "cell_type": "code",
      "metadata": {
        "id": "MOBvvx73R7Tz",
        "colab_type": "code",
        "colab": {}
      },
      "source": [
        "import keras\n",
        "from keras.datasets import cifar10\n",
        "from keras.preprocessing.image import ImageDataGenerator\n",
        "from keras.models import Sequential\n",
        "from keras.layers import Dense, Dropout, Activation, Flatten\n",
        "from keras.layers.normalization import BatchNormalization\n",
        "from keras.layers import Conv2D, MaxPooling2D\n",
        "from keras.optimizers import RMSprop, Adam\n",
        "import os"
      ],
      "execution_count": 0,
      "outputs": []
    },
    {
      "cell_type": "code",
      "metadata": {
        "id": "xqzyKWK6mJDV",
        "colab_type": "code",
        "colab": {}
      },
      "source": [
        "batch_size = 128 # batch 的大小，如果出現 OOM error，請降低這個值\n",
        "num_classes = 10 # 類別的數量，Cifar 10 共有 10 個類別\n",
        "epochs = 50 # 訓練的 epochs 數量\n",
        "LEARNING_RATE = 1e-3\n",
        "optimizers = [RMSprop, Adam]"
      ],
      "execution_count": 0,
      "outputs": []
    },
    {
      "cell_type": "code",
      "metadata": {
        "id": "WXgFe1txR7UD",
        "colab_type": "code",
        "outputId": "2d6878cb-8606-474d-8373-376722a4bf04",
        "colab": {
          "base_uri": "https://localhost:8080/",
          "height": 69
        }
      },
      "source": [
        "(x_train, y_train), (x_test, y_test) = cifar10.load_data()\n",
        "print('x_train shape:', x_train.shape)\n",
        "print(x_train.shape[0], 'train samples')\n",
        "print(x_test.shape[0], 'test samples')\n",
        "x_train = x_train.astype('float32')\n",
        "x_test = x_test.astype('float32')\n",
        "x_train /= 255\n",
        "x_test /= 255\n",
        "\n",
        "# Convert class vectors to binary class matrices.\n",
        "y_train = keras.utils.to_categorical(y_train, num_classes)\n",
        "y_test = keras.utils.to_categorical(y_test, num_classes)"
      ],
      "execution_count": 24,
      "outputs": [
        {
          "output_type": "stream",
          "text": [
            "x_train shape: (50000, 32, 32, 3)\n",
            "50000 train samples\n",
            "10000 test samples\n"
          ],
          "name": "stdout"
        }
      ]
    },
    {
      "cell_type": "code",
      "metadata": {
        "id": "PhvAV6GLYhuz",
        "colab_type": "code",
        "outputId": "c86619df-7811-4b97-9f7c-0d1498796fc8",
        "colab": {
          "base_uri": "https://localhost:8080/",
          "height": 35
        }
      },
      "source": [
        "x_train.shape[1:]"
      ],
      "execution_count": 25,
      "outputs": [
        {
          "output_type": "execute_result",
          "data": {
            "text/plain": [
              "(32, 32, 3)"
            ]
          },
          "metadata": {
            "tags": []
          },
          "execution_count": 25
        }
      ]
    },
    {
      "cell_type": "code",
      "metadata": {
        "id": "4vn50_hq9FRc",
        "colab_type": "code",
        "colab": {}
      },
      "source": [
        "# def cifar_generator(x, y, batch_size=128):\n",
        "#     while True:\n",
        "#         for indexs in range(0, len(x), batch_size):\n",
        "#             images = x[indexs: indexs+batch_size]\n",
        "#             labels = y[indexs: indexs+batch_size]\n",
        "#             yield images, labels\n",
        "\n",
        "datagen = ImageDataGenerator(rotation_range=40,\n",
        "                             width_shift_range=0.2,\n",
        "                             height_shift_range=0.2,\n",
        "                             zoom_range=0.2,\n",
        "                             horizontal_flip=True,\n",
        "                             fill_mode=\"nearest\")"
      ],
      "execution_count": 0,
      "outputs": []
    },
    {
      "cell_type": "code",
      "metadata": {
        "id": "R70GPimZnFVz",
        "colab_type": "code",
        "colab": {}
      },
      "source": [
        "def build_cnn(input_shape, output_units=10, num_neurons=512):\n",
        "  model = Sequential()\n",
        "  model.add(Conv2D(32, (3, 3), padding='same',\n",
        "                  input_shape=input_shape))\n",
        "  model.add(Activation('relu'))\n",
        "  model.add(Conv2D(32, (3, 3)))\n",
        "  model.add(Activation('relu'))\n",
        "  model.add(MaxPooling2D(pool_size=(2, 2)))\n",
        "  model.add(Dropout(0.25))\n",
        "\n",
        "  model.add(Conv2D(64, (3, 3), padding='same'))\n",
        "  model.add(Activation('relu'))\n",
        "  model.add(Conv2D(64, (3, 3)))\n",
        "  model.add(Activation('relu'))\n",
        "  model.add(MaxPooling2D(pool_size=(2, 2)))\n",
        "  model.add(Dropout(0.25))\n",
        "\n",
        "  model.add(Flatten())\n",
        "  model.add(Dense(num_neurons))\n",
        "  model.add(Activation('relu'))\n",
        "  model.add(Dropout(0.5))\n",
        "  model.add(Dense(output_units))\n",
        "  model.add(Activation('softmax'))\n",
        "\n",
        "  return model"
      ],
      "execution_count": 0,
      "outputs": []
    },
    {
      "cell_type": "code",
      "metadata": {
        "id": "tyh-y9qg-frN",
        "colab_type": "code",
        "outputId": "e765fcda-31c6-45c1-952d-c848ae228ed1",
        "colab": {
          "base_uri": "https://localhost:8080/",
          "height": 1000
        }
      },
      "source": [
        "model = build_cnn(input_shape=x_train.shape[1:])\n",
        "model.summary()\n",
        "\n",
        "optimizer = keras.optimizers.Adam(lr=LEARNING_RATE)\n",
        "\n",
        "model.compile(loss='categorical_crossentropy',\n",
        "              optimizer=optimizer,\n",
        "              metrics=['accuracy'])\n",
        "\n",
        "model.fit_generator(datagen.flow(x_train, y_train, batch_size=batch_size),                      \n",
        "                    steps_per_epoch=400, # train size 50000 除以 batch size 128 約 400\n",
        "                    epochs=epochs,\n",
        "                    verbose=1,\n",
        "                    validation_steps=80, # 10000 / 128 約 80\n",
        "                    validation_data=datagen.flow(x_test, y_test, batch_size=batch_size))\n",
        "\n",
        "# Collect results\n",
        "train_loss = model.history.history[\"loss\"]\n",
        "valid_loss = model.history.history[\"val_loss\"]\n",
        "train_acc = model.history.history[\"acc\"]\n",
        "valid_acc = model.history.history[\"val_acc\"]\n",
        "\n",
        "# exp_name_tag = \"batch size:{}\".format(_batch)  \n",
        "score = model.evaluate(x_test, y_test, verbose=0)\n",
        "# results[exp_name_tag] = {'train-loss': train_loss,\n",
        "#                           'valid-loss': valid_loss,\n",
        "#                           'train-acc': train_acc,\n",
        "#                           'valid-acc': valid_acc,\n",
        "#                           'score': score,}\n",
        "# print(exp_name_tag)\n",
        "print('Test loss:', score[0])\n",
        "print('Test accuracy:', score[1])"
      ],
      "execution_count": 28,
      "outputs": [
        {
          "output_type": "stream",
          "text": [
            "Model: \"sequential_3\"\n",
            "_________________________________________________________________\n",
            "Layer (type)                 Output Shape              Param #   \n",
            "=================================================================\n",
            "conv2d_9 (Conv2D)            (None, 32, 32, 32)        896       \n",
            "_________________________________________________________________\n",
            "activation_13 (Activation)   (None, 32, 32, 32)        0         \n",
            "_________________________________________________________________\n",
            "conv2d_10 (Conv2D)           (None, 30, 30, 32)        9248      \n",
            "_________________________________________________________________\n",
            "activation_14 (Activation)   (None, 30, 30, 32)        0         \n",
            "_________________________________________________________________\n",
            "max_pooling2d_5 (MaxPooling2 (None, 15, 15, 32)        0         \n",
            "_________________________________________________________________\n",
            "dropout_7 (Dropout)          (None, 15, 15, 32)        0         \n",
            "_________________________________________________________________\n",
            "conv2d_11 (Conv2D)           (None, 15, 15, 64)        18496     \n",
            "_________________________________________________________________\n",
            "activation_15 (Activation)   (None, 15, 15, 64)        0         \n",
            "_________________________________________________________________\n",
            "conv2d_12 (Conv2D)           (None, 13, 13, 64)        36928     \n",
            "_________________________________________________________________\n",
            "activation_16 (Activation)   (None, 13, 13, 64)        0         \n",
            "_________________________________________________________________\n",
            "max_pooling2d_6 (MaxPooling2 (None, 6, 6, 64)          0         \n",
            "_________________________________________________________________\n",
            "dropout_8 (Dropout)          (None, 6, 6, 64)          0         \n",
            "_________________________________________________________________\n",
            "flatten_3 (Flatten)          (None, 2304)              0         \n",
            "_________________________________________________________________\n",
            "dense_5 (Dense)              (None, 512)               1180160   \n",
            "_________________________________________________________________\n",
            "activation_17 (Activation)   (None, 512)               0         \n",
            "_________________________________________________________________\n",
            "dropout_9 (Dropout)          (None, 512)               0         \n",
            "_________________________________________________________________\n",
            "dense_6 (Dense)              (None, 10)                5130      \n",
            "_________________________________________________________________\n",
            "activation_18 (Activation)   (None, 10)                0         \n",
            "=================================================================\n",
            "Total params: 1,250,858\n",
            "Trainable params: 1,250,858\n",
            "Non-trainable params: 0\n",
            "_________________________________________________________________\n",
            "WARNING:tensorflow:From /usr/local/lib/python3.6/dist-packages/tensorflow_core/python/ops/math_grad.py:1424: where (from tensorflow.python.ops.array_ops) is deprecated and will be removed in a future version.\n",
            "Instructions for updating:\n",
            "Use tf.where in 2.0, which has the same broadcast rule as np.where\n",
            "WARNING:tensorflow:From /usr/local/lib/python3.6/dist-packages/keras/backend/tensorflow_backend.py:1033: The name tf.assign_add is deprecated. Please use tf.compat.v1.assign_add instead.\n",
            "\n",
            "WARNING:tensorflow:From /usr/local/lib/python3.6/dist-packages/keras/backend/tensorflow_backend.py:1020: The name tf.assign is deprecated. Please use tf.compat.v1.assign instead.\n",
            "\n",
            "WARNING:tensorflow:From /usr/local/lib/python3.6/dist-packages/keras/backend/tensorflow_backend.py:3005: The name tf.Session is deprecated. Please use tf.compat.v1.Session instead.\n",
            "\n",
            "Epoch 1/50\n",
            "WARNING:tensorflow:From /usr/local/lib/python3.6/dist-packages/keras/backend/tensorflow_backend.py:190: The name tf.get_default_session is deprecated. Please use tf.compat.v1.get_default_session instead.\n",
            "\n",
            "WARNING:tensorflow:From /usr/local/lib/python3.6/dist-packages/keras/backend/tensorflow_backend.py:197: The name tf.ConfigProto is deprecated. Please use tf.compat.v1.ConfigProto instead.\n",
            "\n",
            "WARNING:tensorflow:From /usr/local/lib/python3.6/dist-packages/keras/backend/tensorflow_backend.py:207: The name tf.global_variables is deprecated. Please use tf.compat.v1.global_variables instead.\n",
            "\n",
            "WARNING:tensorflow:From /usr/local/lib/python3.6/dist-packages/keras/backend/tensorflow_backend.py:216: The name tf.is_variable_initialized is deprecated. Please use tf.compat.v1.is_variable_initialized instead.\n",
            "\n",
            "WARNING:tensorflow:From /usr/local/lib/python3.6/dist-packages/keras/backend/tensorflow_backend.py:223: The name tf.variables_initializer is deprecated. Please use tf.compat.v1.variables_initializer instead.\n",
            "\n",
            "400/400 [==============================] - 44s 109ms/step - loss: 1.8923 - acc: 0.2999 - val_loss: 1.7237 - val_acc: 0.3697\n",
            "Epoch 2/50\n",
            "400/400 [==============================] - 36s 91ms/step - loss: 1.6327 - acc: 0.4064 - val_loss: 1.5022 - val_acc: 0.4530\n",
            "Epoch 3/50\n",
            "400/400 [==============================] - 36s 91ms/step - loss: 1.5149 - acc: 0.4509 - val_loss: 1.3865 - val_acc: 0.4976\n",
            "Epoch 4/50\n",
            "400/400 [==============================] - 36s 91ms/step - loss: 1.4384 - acc: 0.4814 - val_loss: 1.3341 - val_acc: 0.5173\n",
            "Epoch 5/50\n",
            "400/400 [==============================] - 36s 90ms/step - loss: 1.3881 - acc: 0.5018 - val_loss: 1.2664 - val_acc: 0.5430\n",
            "Epoch 6/50\n",
            "400/400 [==============================] - 37s 92ms/step - loss: 1.3402 - acc: 0.5201 - val_loss: 1.2888 - val_acc: 0.5317\n",
            "Epoch 7/50\n",
            "400/400 [==============================] - 36s 91ms/step - loss: 1.3078 - acc: 0.5313 - val_loss: 1.2601 - val_acc: 0.5464\n",
            "Epoch 8/50\n",
            "400/400 [==============================] - 37s 92ms/step - loss: 1.2812 - acc: 0.5413 - val_loss: 1.1847 - val_acc: 0.5754\n",
            "Epoch 9/50\n",
            "400/400 [==============================] - 37s 91ms/step - loss: 1.2601 - acc: 0.5492 - val_loss: 1.1863 - val_acc: 0.5742\n",
            "Epoch 10/50\n",
            "400/400 [==============================] - 36s 91ms/step - loss: 1.2421 - acc: 0.5556 - val_loss: 1.1447 - val_acc: 0.5881\n",
            "Epoch 11/50\n",
            "400/400 [==============================] - 37s 91ms/step - loss: 1.2204 - acc: 0.5645 - val_loss: 1.1146 - val_acc: 0.6055\n",
            "Epoch 12/50\n",
            "400/400 [==============================] - 37s 91ms/step - loss: 1.1938 - acc: 0.5756 - val_loss: 1.1107 - val_acc: 0.6081\n",
            "Epoch 13/50\n",
            "400/400 [==============================] - 37s 91ms/step - loss: 1.1935 - acc: 0.5793 - val_loss: 1.1018 - val_acc: 0.6080\n",
            "Epoch 14/50\n",
            "400/400 [==============================] - 37s 91ms/step - loss: 1.1660 - acc: 0.5872 - val_loss: 1.0966 - val_acc: 0.5996\n",
            "Epoch 15/50\n",
            "400/400 [==============================] - 36s 91ms/step - loss: 1.1530 - acc: 0.5923 - val_loss: 1.1034 - val_acc: 0.6090\n",
            "Epoch 16/50\n",
            "400/400 [==============================] - 36s 91ms/step - loss: 1.1405 - acc: 0.5989 - val_loss: 1.0480 - val_acc: 0.6337\n",
            "Epoch 17/50\n",
            "400/400 [==============================] - 37s 92ms/step - loss: 1.1336 - acc: 0.5985 - val_loss: 1.0433 - val_acc: 0.6283\n",
            "Epoch 18/50\n",
            "400/400 [==============================] - 37s 92ms/step - loss: 1.1151 - acc: 0.6070 - val_loss: 1.0423 - val_acc: 0.6278\n",
            "Epoch 19/50\n",
            "400/400 [==============================] - 37s 92ms/step - loss: 1.1084 - acc: 0.6087 - val_loss: 1.0186 - val_acc: 0.6429\n",
            "Epoch 20/50\n",
            "400/400 [==============================] - 37s 91ms/step - loss: 1.1166 - acc: 0.6072 - val_loss: 1.0097 - val_acc: 0.6474\n",
            "Epoch 21/50\n",
            "400/400 [==============================] - 37s 91ms/step - loss: 1.0993 - acc: 0.6116 - val_loss: 1.0260 - val_acc: 0.6407\n",
            "Epoch 22/50\n",
            "400/400 [==============================] - 37s 91ms/step - loss: 1.0872 - acc: 0.6136 - val_loss: 1.0263 - val_acc: 0.6339\n",
            "Epoch 23/50\n",
            "400/400 [==============================] - 37s 92ms/step - loss: 1.0802 - acc: 0.6184 - val_loss: 0.9881 - val_acc: 0.6514\n",
            "Epoch 24/50\n",
            "400/400 [==============================] - 37s 92ms/step - loss: 1.0725 - acc: 0.6217 - val_loss: 0.9887 - val_acc: 0.6543\n",
            "Epoch 25/50\n",
            "400/400 [==============================] - 37s 92ms/step - loss: 1.0772 - acc: 0.6227 - val_loss: 0.9933 - val_acc: 0.6524\n",
            "Epoch 26/50\n",
            "400/400 [==============================] - 37s 91ms/step - loss: 1.0605 - acc: 0.6260 - val_loss: 0.9727 - val_acc: 0.6592\n",
            "Epoch 27/50\n",
            "400/400 [==============================] - 37s 91ms/step - loss: 1.0541 - acc: 0.6308 - val_loss: 0.9864 - val_acc: 0.6504\n",
            "Epoch 28/50\n",
            "400/400 [==============================] - 37s 92ms/step - loss: 1.0562 - acc: 0.6309 - val_loss: 0.9531 - val_acc: 0.6601\n",
            "Epoch 29/50\n",
            "400/400 [==============================] - 37s 92ms/step - loss: 1.0372 - acc: 0.6353 - val_loss: 0.9608 - val_acc: 0.6656\n",
            "Epoch 30/50\n",
            "400/400 [==============================] - 37s 91ms/step - loss: 1.0355 - acc: 0.6387 - val_loss: 0.9625 - val_acc: 0.6612\n",
            "Epoch 31/50\n",
            "400/400 [==============================] - 37s 92ms/step - loss: 1.0398 - acc: 0.6352 - val_loss: 0.9284 - val_acc: 0.6723\n",
            "Epoch 32/50\n",
            "400/400 [==============================] - 37s 91ms/step - loss: 1.0283 - acc: 0.6403 - val_loss: 0.9549 - val_acc: 0.6645\n",
            "Epoch 33/50\n",
            "400/400 [==============================] - 37s 92ms/step - loss: 1.0188 - acc: 0.6443 - val_loss: 0.9167 - val_acc: 0.6791\n",
            "Epoch 34/50\n",
            "400/400 [==============================] - 37s 92ms/step - loss: 1.0256 - acc: 0.6404 - val_loss: 0.9427 - val_acc: 0.6765\n",
            "Epoch 35/50\n",
            "400/400 [==============================] - 37s 92ms/step - loss: 1.0156 - acc: 0.6452 - val_loss: 0.9229 - val_acc: 0.6739\n",
            "Epoch 36/50\n",
            "400/400 [==============================] - 37s 92ms/step - loss: 1.0145 - acc: 0.6457 - val_loss: 0.9520 - val_acc: 0.6673\n",
            "Epoch 37/50\n",
            "400/400 [==============================] - 37s 92ms/step - loss: 1.0153 - acc: 0.6450 - val_loss: 0.9233 - val_acc: 0.6775\n",
            "Epoch 38/50\n",
            "400/400 [==============================] - 37s 92ms/step - loss: 1.0133 - acc: 0.6450 - val_loss: 0.9117 - val_acc: 0.6819\n",
            "Epoch 39/50\n",
            "400/400 [==============================] - 37s 92ms/step - loss: 1.0044 - acc: 0.6468 - val_loss: 0.9141 - val_acc: 0.6804\n",
            "Epoch 40/50\n",
            "400/400 [==============================] - 37s 92ms/step - loss: 0.9967 - acc: 0.6510 - val_loss: 0.9083 - val_acc: 0.6820\n",
            "Epoch 41/50\n",
            "400/400 [==============================] - 37s 92ms/step - loss: 0.9932 - acc: 0.6522 - val_loss: 0.8920 - val_acc: 0.6881\n",
            "Epoch 42/50\n",
            "400/400 [==============================] - 37s 92ms/step - loss: 0.9942 - acc: 0.6507 - val_loss: 0.9209 - val_acc: 0.6795\n",
            "Epoch 43/50\n",
            "400/400 [==============================] - 36s 90ms/step - loss: 0.9896 - acc: 0.6553 - val_loss: 0.8859 - val_acc: 0.6900\n",
            "Epoch 44/50\n",
            "400/400 [==============================] - 37s 93ms/step - loss: 0.9885 - acc: 0.6551 - val_loss: 0.9053 - val_acc: 0.6841\n",
            "Epoch 45/50\n",
            "400/400 [==============================] - 36s 91ms/step - loss: 0.9841 - acc: 0.6540 - val_loss: 0.8747 - val_acc: 0.6954\n",
            "Epoch 46/50\n",
            "400/400 [==============================] - 36s 91ms/step - loss: 0.9786 - acc: 0.6565 - val_loss: 0.9036 - val_acc: 0.6762\n",
            "Epoch 47/50\n",
            "400/400 [==============================] - 36s 91ms/step - loss: 0.9815 - acc: 0.6565 - val_loss: 0.9123 - val_acc: 0.6812\n",
            "Epoch 48/50\n",
            "400/400 [==============================] - 37s 91ms/step - loss: 0.9814 - acc: 0.6565 - val_loss: 0.9001 - val_acc: 0.6837\n",
            "Epoch 49/50\n",
            "400/400 [==============================] - 36s 91ms/step - loss: 0.9713 - acc: 0.6578 - val_loss: 0.8908 - val_acc: 0.6852\n",
            "Epoch 50/50\n",
            "400/400 [==============================] - 36s 91ms/step - loss: 0.9747 - acc: 0.6604 - val_loss: 0.9023 - val_acc: 0.6795\n",
            "Test loss: 0.844022785282135\n",
            "Test accuracy: 0.7108\n"
          ],
          "name": "stdout"
        }
      ]
    },
    {
      "cell_type": "code",
      "metadata": {
        "id": "-ne9vlb27ijF",
        "colab_type": "code",
        "colab": {}
      },
      "source": [
        "# Test loss: 0.657518986749649\n",
        "# Test accuracy: 0.8045"
      ],
      "execution_count": 0,
      "outputs": []
    }
  ]
}