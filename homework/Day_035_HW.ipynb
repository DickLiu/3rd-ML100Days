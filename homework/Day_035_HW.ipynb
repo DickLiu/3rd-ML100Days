{
 "cells": [
  {
   "cell_type": "markdown",
   "metadata": {},
   "source": [
    "## 練習時間\n",
    "相信大家對回歸問題及分類問題都有初步的了解。今天的作業希望大家搜尋有關 multi-label 的案例問題。下圖是電影 \"奇異博士\" 的分類。可以看到同時有 \"Action\", \"Adventure\", \"Fantasy\" 的類別存在，代表這是個多標籤的問題。 "
   ]
  },
  {
   "cell_type": "markdown",
   "metadata": {},
   "source": [
    "![image](https://cdn-images-1.medium.com/max/1000/1*r0gYXMSQf5VhdMyl2bRDyg.png)"
   ]
  },
  {
   "cell_type": "markdown",
   "metadata": {},
   "source": [
    "## 請搜尋目標為多標籤問題 (Multi-label) 的機器學習案例，了解其資料來源、目標以及評估指標為何\n",
    "## Hint: 服飾  \n",
    "例如: 新聞分類, \n",
    "FashionAI全球挑戰賽\n",
    "資料來源:  \n",
    "https://tianchi.aliyun.com/\n",
    "目標:  \n",
    "服飾關鍵點定位:  \n",
    "機器分析服飾容易受到尺度和形變的影響，比如拍攝的距離角度、服飾擺放方式、模特姿勢等等。借助服飾的關鍵點定位技術，可以幫助克服上述影響，推動服飾部位對齊，服飾局部屬性識別，服飾圖像自動編輯等應用的效果提升。  \n",
    "服飾標籤屬性識別:  \n",
    "服飾屬性標籤是構成服飾知識體系的重要根基，內部龐大復雜。阿里巴巴對服飾屬性進行了專業的整理和抽象，構建了一個符合認知過程，結構化且滿足機器學習要求的標籤知識體系。由此誕生的服飾屬性標籤識別技術可以廣泛應用在服飾圖像檢索，標籤導航，服飾搭配等應用場景。\n",
    "評估指標: \n",
    "https://github.com/yuanyuanli85/FashionAI_KeyPoint_Detection_Challenge_Keras"
   ]
  },
  {
   "cell_type": "code",
   "execution_count": null,
   "metadata": {},
   "outputs": [],
   "source": []
  }
 ],
 "metadata": {
  "kernelspec": {
   "display_name": "Python 3",
   "language": "python",
   "name": "python3"
  },
  "language_info": {
   "codemirror_mode": {
    "name": "ipython",
    "version": 3
   },
   "file_extension": ".py",
   "mimetype": "text/x-python",
   "name": "python",
   "nbconvert_exporter": "python",
   "pygments_lexer": "ipython3",
   "version": "3.7.1"
  }
 },
 "nbformat": 4,
 "nbformat_minor": 2
}
